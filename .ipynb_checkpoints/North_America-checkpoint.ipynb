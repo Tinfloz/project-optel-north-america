{
 "cells": [
  {
   "cell_type": "markdown",
   "id": "44c4a597-ed39-4ee7-8905-61023a658830",
   "metadata": {},
   "source": [
    "# Data cleaning and analysis\n",
    "+ This data set was downloaded off of Mergent Intellect (a business database)\n",
    "+ The data set has the list of all the pharmaceutical companies (NAICS code: 32541) operating in the North American Market (United States and Canada)\n",
    "+ It contains the following information:\n",
    "    + Company Name\n",
    "    + Ticker\n",
    "    + Location \n",
    "    + Location Type (Headquarter, Single location, Branch)\n",
    "    + Sales\n",
    "    + SIC\n",
    "    + URL\n",
    "    + Phone Number"
   ]
  },
  {
   "cell_type": "markdown",
   "id": "a4694a27-5634-41a4-911e-3f35517a0597",
   "metadata": {},
   "source": [
    "## Goals:\n",
    "+ Clean the data set using the pandas library\n",
    "+ Make some basic analyses\n",
    "+ Make some visualisations (barplots) to check the distribution of the companies in the US states/cities and Canadian provinces\n",
    "+ Connect to a Postgres database (pgadmin4) and query for the top 15 companies (based on sales) for both the countries"
   ]
  },
  {
   "cell_type": "code",
   "execution_count": 1,
   "id": "08e53506-231c-4f0e-b015-30f456760151",
   "metadata": {},
   "outputs": [],
   "source": [
    "## Import all the libraries that are to be used for this analysis\n",
    "import pandas as pd\n",
    "import numpy as np\n",
    "import matplotlib.pyplot as plt\n",
    "import matplotlib as mpl\n",
    "import seaborn as sns"
   ]
  },
  {
   "cell_type": "code",
   "execution_count": 2,
   "id": "8a484f4c-d6f7-47ac-8795-f5247c8e5e19",
   "metadata": {},
   "outputs": [],
   "source": [
    "import warnings\n",
    "warnings.simplefilter(\"ignore\")\n",
    "df = pd.read_excel('/Users/swapnonilchakraborty/Downloads/north_america_raw_data.xls')"
   ]
  },
  {
   "cell_type": "code",
   "execution_count": 3,
   "id": "7388bc84-dfd5-43e0-969e-180df5618841",
   "metadata": {},
   "outputs": [
    {
     "name": "stdout",
     "output_type": "stream",
     "text": [
      "<class 'pandas.core.frame.DataFrame'>\n",
      "RangeIndex: 19998 entries, 0 to 19997\n",
      "Data columns (total 8 columns):\n",
      " #   Column         Non-Null Count  Dtype  \n",
      "---  ------         --------------  -----  \n",
      " 0   Company Name   19998 non-null  object \n",
      " 1   Ticker         614 non-null    object \n",
      " 2   Location       19998 non-null  object \n",
      " 3   Location Type  19998 non-null  object \n",
      " 4   Sales          19998 non-null  object \n",
      " 5   SIC            19998 non-null  float64\n",
      " 6   URL            11089 non-null  object \n",
      " 7   Phone Number   16418 non-null  object \n",
      "dtypes: float64(1), object(7)\n",
      "memory usage: 1.2+ MB\n"
     ]
    }
   ],
   "source": [
    "df.info()"
   ]
  },
  {
   "cell_type": "code",
   "execution_count": 4,
   "id": "ac4a969a-60f7-4a15-866a-687e70eb85f1",
   "metadata": {},
   "outputs": [
    {
     "data": {
      "text/plain": [
       "(19998, 8)"
      ]
     },
     "execution_count": 4,
     "metadata": {},
     "output_type": "execute_result"
    }
   ],
   "source": [
    "df.shape"
   ]
  },
  {
   "cell_type": "code",
   "execution_count": 5,
   "id": "2b8bc4d0-7dda-43b9-8b5d-d6f4688e8c6b",
   "metadata": {},
   "outputs": [
    {
     "data": {
      "text/html": [
       "<div>\n",
       "<style scoped>\n",
       "    .dataframe tbody tr th:only-of-type {\n",
       "        vertical-align: middle;\n",
       "    }\n",
       "\n",
       "    .dataframe tbody tr th {\n",
       "        vertical-align: top;\n",
       "    }\n",
       "\n",
       "    .dataframe thead th {\n",
       "        text-align: right;\n",
       "    }\n",
       "</style>\n",
       "<table border=\"1\" class=\"dataframe\">\n",
       "  <thead>\n",
       "    <tr style=\"text-align: right;\">\n",
       "      <th></th>\n",
       "      <th>Company Name</th>\n",
       "      <th>Ticker</th>\n",
       "      <th>Location</th>\n",
       "      <th>Location Type</th>\n",
       "      <th>Sales</th>\n",
       "      <th>SIC</th>\n",
       "      <th>URL</th>\n",
       "      <th>Phone Number</th>\n",
       "    </tr>\n",
       "  </thead>\n",
       "  <tbody>\n",
       "    <tr>\n",
       "      <th>0</th>\n",
       "      <td>JOHNSON &amp; JOHNSON</td>\n",
       "      <td>JNJ</td>\n",
       "      <td>NEW JERSEY(USA)</td>\n",
       "      <td>Headquarters</td>\n",
       "      <td>$93,775,000,000</td>\n",
       "      <td>28340000.0</td>\n",
       "      <td>WWW.JNJ.COM</td>\n",
       "      <td>(732) 524-0400</td>\n",
       "    </tr>\n",
       "    <tr>\n",
       "      <th>1</th>\n",
       "      <td>PFIZER INC.</td>\n",
       "      <td>PFE</td>\n",
       "      <td>NEW YORK(USA)</td>\n",
       "      <td>Headquarters</td>\n",
       "      <td>$81,288,000,000</td>\n",
       "      <td>28340300.0</td>\n",
       "      <td>WWW.PFIZER.COM</td>\n",
       "      <td>(212) 733-2323</td>\n",
       "    </tr>\n",
       "    <tr>\n",
       "      <th>2</th>\n",
       "      <td>ABBVIE INC.</td>\n",
       "      <td>ABBV</td>\n",
       "      <td>ILLINOIS(USA)</td>\n",
       "      <td>Headquarters</td>\n",
       "      <td>$56,197,000,000</td>\n",
       "      <td>28340000.0</td>\n",
       "      <td>WWW.ABBVIE.COM</td>\n",
       "      <td>(847) 932-7900</td>\n",
       "    </tr>\n",
       "    <tr>\n",
       "      <th>3</th>\n",
       "      <td>NOVARTIS PHARMACEUTICALS CORPORATION</td>\n",
       "      <td>NaN</td>\n",
       "      <td>NEW JERSEY(USA)</td>\n",
       "      <td>Headquarters</td>\n",
       "      <td>$49,436,000,000</td>\n",
       "      <td>28340000.0</td>\n",
       "      <td>WWW.NOVARTIS.US</td>\n",
       "      <td>(862) 778-8300</td>\n",
       "    </tr>\n",
       "    <tr>\n",
       "      <th>4</th>\n",
       "      <td>MERCK &amp; CO., INC.</td>\n",
       "      <td>MRK</td>\n",
       "      <td>NEW JERSEY(USA)</td>\n",
       "      <td>Headquarters</td>\n",
       "      <td>$48,704,000,000</td>\n",
       "      <td>28340000.0</td>\n",
       "      <td>WWW.MERCK.COM</td>\n",
       "      <td>(908) 740-4000</td>\n",
       "    </tr>\n",
       "  </tbody>\n",
       "</table>\n",
       "</div>"
      ],
      "text/plain": [
       "                           Company Name Ticker         Location Location Type  \\\n",
       "0                     JOHNSON & JOHNSON    JNJ  NEW JERSEY(USA)  Headquarters   \n",
       "1                           PFIZER INC.    PFE    NEW YORK(USA)  Headquarters   \n",
       "2                           ABBVIE INC.   ABBV    ILLINOIS(USA)  Headquarters   \n",
       "3  NOVARTIS PHARMACEUTICALS CORPORATION    NaN  NEW JERSEY(USA)  Headquarters   \n",
       "4                     MERCK & CO., INC.    MRK  NEW JERSEY(USA)  Headquarters   \n",
       "\n",
       "             Sales         SIC              URL    Phone Number  \n",
       "0  $93,775,000,000  28340000.0      WWW.JNJ.COM  (732) 524-0400  \n",
       "1  $81,288,000,000  28340300.0   WWW.PFIZER.COM  (212) 733-2323  \n",
       "2  $56,197,000,000  28340000.0   WWW.ABBVIE.COM  (847) 932-7900  \n",
       "3  $49,436,000,000  28340000.0  WWW.NOVARTIS.US  (862) 778-8300  \n",
       "4  $48,704,000,000  28340000.0    WWW.MERCK.COM  (908) 740-4000  "
      ]
     },
     "execution_count": 5,
     "metadata": {},
     "output_type": "execute_result"
    }
   ],
   "source": [
    "df.head(5)"
   ]
  },
  {
   "cell_type": "code",
   "execution_count": 6,
   "id": "2e893e98-109a-44b4-8220-3be7be5b9dae",
   "metadata": {},
   "outputs": [
    {
     "data": {
      "text/plain": [
       "Index(['Company Name', 'Ticker', 'Location', 'Location Type', 'Sales', 'SIC',\n",
       "       'URL', 'Phone Number'],\n",
       "      dtype='object')"
      ]
     },
     "execution_count": 6,
     "metadata": {},
     "output_type": "execute_result"
    }
   ],
   "source": [
    "df.columns"
   ]
  },
  {
   "cell_type": "code",
   "execution_count": 7,
   "id": "de008adb-907f-4c1a-973e-eef59dcd4695",
   "metadata": {},
   "outputs": [],
   "source": [
    "## Drop some of the unimportant columns\n",
    "df.drop(columns = ['Ticker', 'SIC'], inplace = True)"
   ]
  },
  {
   "cell_type": "code",
   "execution_count": 8,
   "id": "4c85cdc3-654a-4881-bc69-8dbf57fb802f",
   "metadata": {},
   "outputs": [
    {
     "data": {
      "text/html": [
       "<div>\n",
       "<style scoped>\n",
       "    .dataframe tbody tr th:only-of-type {\n",
       "        vertical-align: middle;\n",
       "    }\n",
       "\n",
       "    .dataframe tbody tr th {\n",
       "        vertical-align: top;\n",
       "    }\n",
       "\n",
       "    .dataframe thead th {\n",
       "        text-align: right;\n",
       "    }\n",
       "</style>\n",
       "<table border=\"1\" class=\"dataframe\">\n",
       "  <thead>\n",
       "    <tr style=\"text-align: right;\">\n",
       "      <th></th>\n",
       "      <th>Company Name</th>\n",
       "      <th>Location</th>\n",
       "      <th>Location Type</th>\n",
       "      <th>Sales</th>\n",
       "      <th>URL</th>\n",
       "      <th>Phone Number</th>\n",
       "    </tr>\n",
       "  </thead>\n",
       "  <tbody>\n",
       "    <tr>\n",
       "      <th>0</th>\n",
       "      <td>JOHNSON &amp; JOHNSON</td>\n",
       "      <td>NEW JERSEY(USA)</td>\n",
       "      <td>Headquarters</td>\n",
       "      <td>$93,775,000,000</td>\n",
       "      <td>WWW.JNJ.COM</td>\n",
       "      <td>(732) 524-0400</td>\n",
       "    </tr>\n",
       "    <tr>\n",
       "      <th>1</th>\n",
       "      <td>PFIZER INC.</td>\n",
       "      <td>NEW YORK(USA)</td>\n",
       "      <td>Headquarters</td>\n",
       "      <td>$81,288,000,000</td>\n",
       "      <td>WWW.PFIZER.COM</td>\n",
       "      <td>(212) 733-2323</td>\n",
       "    </tr>\n",
       "    <tr>\n",
       "      <th>2</th>\n",
       "      <td>ABBVIE INC.</td>\n",
       "      <td>ILLINOIS(USA)</td>\n",
       "      <td>Headquarters</td>\n",
       "      <td>$56,197,000,000</td>\n",
       "      <td>WWW.ABBVIE.COM</td>\n",
       "      <td>(847) 932-7900</td>\n",
       "    </tr>\n",
       "    <tr>\n",
       "      <th>3</th>\n",
       "      <td>NOVARTIS PHARMACEUTICALS CORPORATION</td>\n",
       "      <td>NEW JERSEY(USA)</td>\n",
       "      <td>Headquarters</td>\n",
       "      <td>$49,436,000,000</td>\n",
       "      <td>WWW.NOVARTIS.US</td>\n",
       "      <td>(862) 778-8300</td>\n",
       "    </tr>\n",
       "    <tr>\n",
       "      <th>4</th>\n",
       "      <td>MERCK &amp; CO., INC.</td>\n",
       "      <td>NEW JERSEY(USA)</td>\n",
       "      <td>Headquarters</td>\n",
       "      <td>$48,704,000,000</td>\n",
       "      <td>WWW.MERCK.COM</td>\n",
       "      <td>(908) 740-4000</td>\n",
       "    </tr>\n",
       "  </tbody>\n",
       "</table>\n",
       "</div>"
      ],
      "text/plain": [
       "                           Company Name         Location Location Type  \\\n",
       "0                     JOHNSON & JOHNSON  NEW JERSEY(USA)  Headquarters   \n",
       "1                           PFIZER INC.    NEW YORK(USA)  Headquarters   \n",
       "2                           ABBVIE INC.    ILLINOIS(USA)  Headquarters   \n",
       "3  NOVARTIS PHARMACEUTICALS CORPORATION  NEW JERSEY(USA)  Headquarters   \n",
       "4                     MERCK & CO., INC.  NEW JERSEY(USA)  Headquarters   \n",
       "\n",
       "             Sales              URL    Phone Number  \n",
       "0  $93,775,000,000      WWW.JNJ.COM  (732) 524-0400  \n",
       "1  $81,288,000,000   WWW.PFIZER.COM  (212) 733-2323  \n",
       "2  $56,197,000,000   WWW.ABBVIE.COM  (847) 932-7900  \n",
       "3  $49,436,000,000  WWW.NOVARTIS.US  (862) 778-8300  \n",
       "4  $48,704,000,000    WWW.MERCK.COM  (908) 740-4000  "
      ]
     },
     "execution_count": 8,
     "metadata": {},
     "output_type": "execute_result"
    }
   ],
   "source": [
    "df.head(5)"
   ]
  },
  {
   "cell_type": "code",
   "execution_count": 9,
   "id": "1b656345-3b69-42b1-a47e-0a3e2e10bb13",
   "metadata": {},
   "outputs": [],
   "source": [
    "## Renaming some columns:\n",
    "df.rename(columns = {'Company Name' : 'company_name', 'Location Type': 'location_type', 'Phone Number' : 'phone_number'}, inplace = True)"
   ]
  },
  {
   "cell_type": "code",
   "execution_count": 10,
   "id": "a38e443f-f4dd-4f6a-a7c3-97fdd3460749",
   "metadata": {},
   "outputs": [
    {
     "data": {
      "text/html": [
       "<div>\n",
       "<style scoped>\n",
       "    .dataframe tbody tr th:only-of-type {\n",
       "        vertical-align: middle;\n",
       "    }\n",
       "\n",
       "    .dataframe tbody tr th {\n",
       "        vertical-align: top;\n",
       "    }\n",
       "\n",
       "    .dataframe thead th {\n",
       "        text-align: right;\n",
       "    }\n",
       "</style>\n",
       "<table border=\"1\" class=\"dataframe\">\n",
       "  <thead>\n",
       "    <tr style=\"text-align: right;\">\n",
       "      <th></th>\n",
       "      <th>company_name</th>\n",
       "      <th>Location</th>\n",
       "      <th>location_type</th>\n",
       "      <th>Sales</th>\n",
       "      <th>URL</th>\n",
       "      <th>phone_number</th>\n",
       "    </tr>\n",
       "  </thead>\n",
       "  <tbody>\n",
       "    <tr>\n",
       "      <th>0</th>\n",
       "      <td>JOHNSON &amp; JOHNSON</td>\n",
       "      <td>NEW JERSEY(USA)</td>\n",
       "      <td>Headquarters</td>\n",
       "      <td>$93,775,000,000</td>\n",
       "      <td>WWW.JNJ.COM</td>\n",
       "      <td>(732) 524-0400</td>\n",
       "    </tr>\n",
       "    <tr>\n",
       "      <th>1</th>\n",
       "      <td>PFIZER INC.</td>\n",
       "      <td>NEW YORK(USA)</td>\n",
       "      <td>Headquarters</td>\n",
       "      <td>$81,288,000,000</td>\n",
       "      <td>WWW.PFIZER.COM</td>\n",
       "      <td>(212) 733-2323</td>\n",
       "    </tr>\n",
       "    <tr>\n",
       "      <th>2</th>\n",
       "      <td>ABBVIE INC.</td>\n",
       "      <td>ILLINOIS(USA)</td>\n",
       "      <td>Headquarters</td>\n",
       "      <td>$56,197,000,000</td>\n",
       "      <td>WWW.ABBVIE.COM</td>\n",
       "      <td>(847) 932-7900</td>\n",
       "    </tr>\n",
       "    <tr>\n",
       "      <th>3</th>\n",
       "      <td>NOVARTIS PHARMACEUTICALS CORPORATION</td>\n",
       "      <td>NEW JERSEY(USA)</td>\n",
       "      <td>Headquarters</td>\n",
       "      <td>$49,436,000,000</td>\n",
       "      <td>WWW.NOVARTIS.US</td>\n",
       "      <td>(862) 778-8300</td>\n",
       "    </tr>\n",
       "    <tr>\n",
       "      <th>4</th>\n",
       "      <td>MERCK &amp; CO., INC.</td>\n",
       "      <td>NEW JERSEY(USA)</td>\n",
       "      <td>Headquarters</td>\n",
       "      <td>$48,704,000,000</td>\n",
       "      <td>WWW.MERCK.COM</td>\n",
       "      <td>(908) 740-4000</td>\n",
       "    </tr>\n",
       "  </tbody>\n",
       "</table>\n",
       "</div>"
      ],
      "text/plain": [
       "                           company_name         Location location_type  \\\n",
       "0                     JOHNSON & JOHNSON  NEW JERSEY(USA)  Headquarters   \n",
       "1                           PFIZER INC.    NEW YORK(USA)  Headquarters   \n",
       "2                           ABBVIE INC.    ILLINOIS(USA)  Headquarters   \n",
       "3  NOVARTIS PHARMACEUTICALS CORPORATION  NEW JERSEY(USA)  Headquarters   \n",
       "4                     MERCK & CO., INC.  NEW JERSEY(USA)  Headquarters   \n",
       "\n",
       "             Sales              URL    phone_number  \n",
       "0  $93,775,000,000      WWW.JNJ.COM  (732) 524-0400  \n",
       "1  $81,288,000,000   WWW.PFIZER.COM  (212) 733-2323  \n",
       "2  $56,197,000,000   WWW.ABBVIE.COM  (847) 932-7900  \n",
       "3  $49,436,000,000  WWW.NOVARTIS.US  (862) 778-8300  \n",
       "4  $48,704,000,000    WWW.MERCK.COM  (908) 740-4000  "
      ]
     },
     "execution_count": 10,
     "metadata": {},
     "output_type": "execute_result"
    }
   ],
   "source": [
    "df.head(5)"
   ]
  },
  {
   "cell_type": "code",
   "execution_count": 11,
   "id": "92da184a-cbac-40e2-bdb4-2d7d7a9544bd",
   "metadata": {},
   "outputs": [],
   "source": [
    "## Changing capitalization for the company_name and Location columns:\n",
    "df['company_name'] = df['company_name'].str.title()\n",
    "df['Location'] = df['Location'].str.title()\n",
    "df['URL'] = df['URL'].str.lower()"
   ]
  },
  {
   "cell_type": "code",
   "execution_count": 12,
   "id": "35695bf4-32c2-481f-8a29-441442332d0c",
   "metadata": {},
   "outputs": [
    {
     "data": {
      "text/html": [
       "<div>\n",
       "<style scoped>\n",
       "    .dataframe tbody tr th:only-of-type {\n",
       "        vertical-align: middle;\n",
       "    }\n",
       "\n",
       "    .dataframe tbody tr th {\n",
       "        vertical-align: top;\n",
       "    }\n",
       "\n",
       "    .dataframe thead th {\n",
       "        text-align: right;\n",
       "    }\n",
       "</style>\n",
       "<table border=\"1\" class=\"dataframe\">\n",
       "  <thead>\n",
       "    <tr style=\"text-align: right;\">\n",
       "      <th></th>\n",
       "      <th>company_name</th>\n",
       "      <th>Location</th>\n",
       "      <th>location_type</th>\n",
       "      <th>Sales</th>\n",
       "      <th>URL</th>\n",
       "      <th>phone_number</th>\n",
       "    </tr>\n",
       "  </thead>\n",
       "  <tbody>\n",
       "    <tr>\n",
       "      <th>0</th>\n",
       "      <td>Johnson &amp; Johnson</td>\n",
       "      <td>New Jersey(Usa)</td>\n",
       "      <td>Headquarters</td>\n",
       "      <td>$93,775,000,000</td>\n",
       "      <td>www.jnj.com</td>\n",
       "      <td>(732) 524-0400</td>\n",
       "    </tr>\n",
       "    <tr>\n",
       "      <th>1</th>\n",
       "      <td>Pfizer Inc.</td>\n",
       "      <td>New York(Usa)</td>\n",
       "      <td>Headquarters</td>\n",
       "      <td>$81,288,000,000</td>\n",
       "      <td>www.pfizer.com</td>\n",
       "      <td>(212) 733-2323</td>\n",
       "    </tr>\n",
       "    <tr>\n",
       "      <th>2</th>\n",
       "      <td>Abbvie Inc.</td>\n",
       "      <td>Illinois(Usa)</td>\n",
       "      <td>Headquarters</td>\n",
       "      <td>$56,197,000,000</td>\n",
       "      <td>www.abbvie.com</td>\n",
       "      <td>(847) 932-7900</td>\n",
       "    </tr>\n",
       "    <tr>\n",
       "      <th>3</th>\n",
       "      <td>Novartis Pharmaceuticals Corporation</td>\n",
       "      <td>New Jersey(Usa)</td>\n",
       "      <td>Headquarters</td>\n",
       "      <td>$49,436,000,000</td>\n",
       "      <td>www.novartis.us</td>\n",
       "      <td>(862) 778-8300</td>\n",
       "    </tr>\n",
       "    <tr>\n",
       "      <th>4</th>\n",
       "      <td>Merck &amp; Co., Inc.</td>\n",
       "      <td>New Jersey(Usa)</td>\n",
       "      <td>Headquarters</td>\n",
       "      <td>$48,704,000,000</td>\n",
       "      <td>www.merck.com</td>\n",
       "      <td>(908) 740-4000</td>\n",
       "    </tr>\n",
       "  </tbody>\n",
       "</table>\n",
       "</div>"
      ],
      "text/plain": [
       "                           company_name         Location location_type  \\\n",
       "0                     Johnson & Johnson  New Jersey(Usa)  Headquarters   \n",
       "1                           Pfizer Inc.    New York(Usa)  Headquarters   \n",
       "2                           Abbvie Inc.    Illinois(Usa)  Headquarters   \n",
       "3  Novartis Pharmaceuticals Corporation  New Jersey(Usa)  Headquarters   \n",
       "4                     Merck & Co., Inc.  New Jersey(Usa)  Headquarters   \n",
       "\n",
       "             Sales              URL    phone_number  \n",
       "0  $93,775,000,000      www.jnj.com  (732) 524-0400  \n",
       "1  $81,288,000,000   www.pfizer.com  (212) 733-2323  \n",
       "2  $56,197,000,000   www.abbvie.com  (847) 932-7900  \n",
       "3  $49,436,000,000  www.novartis.us  (862) 778-8300  \n",
       "4  $48,704,000,000    www.merck.com  (908) 740-4000  "
      ]
     },
     "execution_count": 12,
     "metadata": {},
     "output_type": "execute_result"
    }
   ],
   "source": [
    "df.head(5)"
   ]
  },
  {
   "cell_type": "code",
   "execution_count": 13,
   "id": "b8957f19-ab55-4b7e-ba30-daff317059b5",
   "metadata": {},
   "outputs": [],
   "source": [
    "## Check for duplicates based on the company names (We only need unique companies for this exercise):\n",
    "df['bool'] = df.duplicated(subset = ['company_name'], keep = 'first')"
   ]
  },
  {
   "cell_type": "code",
   "execution_count": 14,
   "id": "e47eb202-0d01-4969-a530-dfe72bdd5ece",
   "metadata": {},
   "outputs": [
    {
     "data": {
      "text/html": [
       "<div>\n",
       "<style scoped>\n",
       "    .dataframe tbody tr th:only-of-type {\n",
       "        vertical-align: middle;\n",
       "    }\n",
       "\n",
       "    .dataframe tbody tr th {\n",
       "        vertical-align: top;\n",
       "    }\n",
       "\n",
       "    .dataframe thead th {\n",
       "        text-align: right;\n",
       "    }\n",
       "</style>\n",
       "<table border=\"1\" class=\"dataframe\">\n",
       "  <thead>\n",
       "    <tr style=\"text-align: right;\">\n",
       "      <th></th>\n",
       "      <th>company_name</th>\n",
       "      <th>Location</th>\n",
       "      <th>location_type</th>\n",
       "      <th>Sales</th>\n",
       "      <th>URL</th>\n",
       "      <th>phone_number</th>\n",
       "      <th>bool</th>\n",
       "    </tr>\n",
       "  </thead>\n",
       "  <tbody>\n",
       "    <tr>\n",
       "      <th>267</th>\n",
       "      <td>Pf Consumer Healthcare Canada Ulc</td>\n",
       "      <td>Ontario(Canada)</td>\n",
       "      <td>Single Location</td>\n",
       "      <td>$235,431,740</td>\n",
       "      <td>www.pfizer.ca</td>\n",
       "      <td>9055077000.0</td>\n",
       "      <td>True</td>\n",
       "    </tr>\n",
       "    <tr>\n",
       "      <th>768</th>\n",
       "      <td>Adare Pharmaceuticals, Inc.</td>\n",
       "      <td>Ohio(Usa)</td>\n",
       "      <td>Headquarters</td>\n",
       "      <td>$52,839,821</td>\n",
       "      <td>www.adarepharmasolutions.com</td>\n",
       "      <td>(937) 898-9669</td>\n",
       "      <td>True</td>\n",
       "    </tr>\n",
       "    <tr>\n",
       "      <th>931</th>\n",
       "      <td>Jazz Pharmaceuticals, Inc.</td>\n",
       "      <td>Pennsylvania(Usa)</td>\n",
       "      <td>Headquarters</td>\n",
       "      <td>$39,811,017</td>\n",
       "      <td>www.jazzpharma.com</td>\n",
       "      <td>(215) 867-4900</td>\n",
       "      <td>True</td>\n",
       "    </tr>\n",
       "    <tr>\n",
       "      <th>946</th>\n",
       "      <td>Dpi Newco Llc</td>\n",
       "      <td>New Jersey(Usa)</td>\n",
       "      <td>Single Location</td>\n",
       "      <td>$38,119,107</td>\n",
       "      <td>www.acecashexpress.com</td>\n",
       "      <td>(973) 257-8113</td>\n",
       "      <td>True</td>\n",
       "    </tr>\n",
       "    <tr>\n",
       "      <th>1125</th>\n",
       "      <td>Corixa Corporation</td>\n",
       "      <td>Pennsylvania(Usa)</td>\n",
       "      <td>Single Location</td>\n",
       "      <td>$26,359,170</td>\n",
       "      <td>NaN</td>\n",
       "      <td>(717) 426-6557</td>\n",
       "      <td>True</td>\n",
       "    </tr>\n",
       "    <tr>\n",
       "      <th>...</th>\n",
       "      <td>...</td>\n",
       "      <td>...</td>\n",
       "      <td>...</td>\n",
       "      <td>...</td>\n",
       "      <td>...</td>\n",
       "      <td>...</td>\n",
       "      <td>...</td>\n",
       "    </tr>\n",
       "    <tr>\n",
       "      <th>19970</th>\n",
       "      <td>Reliv International</td>\n",
       "      <td>Illinois(Usa)</td>\n",
       "      <td>Single Location</td>\n",
       "      <td>$0</td>\n",
       "      <td>NaN</td>\n",
       "      <td>NaN</td>\n",
       "      <td>True</td>\n",
       "    </tr>\n",
       "    <tr>\n",
       "      <th>19983</th>\n",
       "      <td>Thrifty Payless</td>\n",
       "      <td>Idaho(Usa)</td>\n",
       "      <td>Single Location</td>\n",
       "      <td>$0</td>\n",
       "      <td>NaN</td>\n",
       "      <td>(208) 743-9127</td>\n",
       "      <td>True</td>\n",
       "    </tr>\n",
       "    <tr>\n",
       "      <th>19984</th>\n",
       "      <td>Thrifty Payless, Inc T/A</td>\n",
       "      <td>Colorado(Usa)</td>\n",
       "      <td>Single Location</td>\n",
       "      <td>$0</td>\n",
       "      <td>NaN</td>\n",
       "      <td>(303) 770-2414</td>\n",
       "      <td>True</td>\n",
       "    </tr>\n",
       "    <tr>\n",
       "      <th>19990</th>\n",
       "      <td>Venom Athletics</td>\n",
       "      <td>Oklahoma(Usa)</td>\n",
       "      <td>Single Location</td>\n",
       "      <td>$0</td>\n",
       "      <td>NaN</td>\n",
       "      <td>(405) 378-0985</td>\n",
       "      <td>True</td>\n",
       "    </tr>\n",
       "    <tr>\n",
       "      <th>19997</th>\n",
       "      <td>Zlb Behring</td>\n",
       "      <td>Missouri(Usa)</td>\n",
       "      <td>Single Location</td>\n",
       "      <td>$0</td>\n",
       "      <td>NaN</td>\n",
       "      <td>(816) 483-8344</td>\n",
       "      <td>True</td>\n",
       "    </tr>\n",
       "  </tbody>\n",
       "</table>\n",
       "<p>2284 rows × 7 columns</p>\n",
       "</div>"
      ],
      "text/plain": [
       "                            company_name           Location    location_type  \\\n",
       "267    Pf Consumer Healthcare Canada Ulc    Ontario(Canada)  Single Location   \n",
       "768          Adare Pharmaceuticals, Inc.          Ohio(Usa)     Headquarters   \n",
       "931           Jazz Pharmaceuticals, Inc.  Pennsylvania(Usa)     Headquarters   \n",
       "946                        Dpi Newco Llc    New Jersey(Usa)  Single Location   \n",
       "1125                  Corixa Corporation  Pennsylvania(Usa)  Single Location   \n",
       "...                                  ...                ...              ...   \n",
       "19970                Reliv International      Illinois(Usa)  Single Location   \n",
       "19983                    Thrifty Payless         Idaho(Usa)  Single Location   \n",
       "19984           Thrifty Payless, Inc T/A      Colorado(Usa)  Single Location   \n",
       "19990                    Venom Athletics      Oklahoma(Usa)  Single Location   \n",
       "19997                        Zlb Behring      Missouri(Usa)  Single Location   \n",
       "\n",
       "              Sales                           URL    phone_number  bool  \n",
       "267    $235,431,740                 www.pfizer.ca    9055077000.0  True  \n",
       "768     $52,839,821  www.adarepharmasolutions.com  (937) 898-9669  True  \n",
       "931     $39,811,017            www.jazzpharma.com  (215) 867-4900  True  \n",
       "946     $38,119,107        www.acecashexpress.com  (973) 257-8113  True  \n",
       "1125    $26,359,170                           NaN  (717) 426-6557  True  \n",
       "...             ...                           ...             ...   ...  \n",
       "19970            $0                           NaN             NaN  True  \n",
       "19983            $0                           NaN  (208) 743-9127  True  \n",
       "19984            $0                           NaN  (303) 770-2414  True  \n",
       "19990            $0                           NaN  (405) 378-0985  True  \n",
       "19997            $0                           NaN  (816) 483-8344  True  \n",
       "\n",
       "[2284 rows x 7 columns]"
      ]
     },
     "execution_count": 14,
     "metadata": {},
     "output_type": "execute_result"
    }
   ],
   "source": [
    "df.loc[df['bool'] == True] \n",
    "## 2284 companies are duplicated"
   ]
  },
  {
   "cell_type": "code",
   "execution_count": 15,
   "id": "f76b5c22-006f-4b5c-a83b-cf329456cfbc",
   "metadata": {},
   "outputs": [],
   "source": [
    "## Drop all the duplicate companies:\n",
    "df.drop_duplicates(subset = ['company_name'], keep = 'first', inplace = True)"
   ]
  },
  {
   "cell_type": "code",
   "execution_count": 16,
   "id": "d4b33201-2f0d-45e8-9b92-96d540111389",
   "metadata": {},
   "outputs": [],
   "source": [
    "## Reset the indices of the new dataframe:\n",
    "df.reset_index(drop = True, inplace = True)"
   ]
  },
  {
   "cell_type": "code",
   "execution_count": 17,
   "id": "731c0e46-96d6-4d31-bf6d-46f2a2269ac9",
   "metadata": {},
   "outputs": [
    {
     "data": {
      "text/html": [
       "<div>\n",
       "<style scoped>\n",
       "    .dataframe tbody tr th:only-of-type {\n",
       "        vertical-align: middle;\n",
       "    }\n",
       "\n",
       "    .dataframe tbody tr th {\n",
       "        vertical-align: top;\n",
       "    }\n",
       "\n",
       "    .dataframe thead th {\n",
       "        text-align: right;\n",
       "    }\n",
       "</style>\n",
       "<table border=\"1\" class=\"dataframe\">\n",
       "  <thead>\n",
       "    <tr style=\"text-align: right;\">\n",
       "      <th></th>\n",
       "      <th>company_name</th>\n",
       "      <th>Location</th>\n",
       "      <th>location_type</th>\n",
       "      <th>Sales</th>\n",
       "      <th>URL</th>\n",
       "      <th>phone_number</th>\n",
       "      <th>bool</th>\n",
       "    </tr>\n",
       "  </thead>\n",
       "  <tbody>\n",
       "    <tr>\n",
       "      <th>0</th>\n",
       "      <td>Johnson &amp; Johnson</td>\n",
       "      <td>New Jersey(Usa)</td>\n",
       "      <td>Headquarters</td>\n",
       "      <td>$93,775,000,000</td>\n",
       "      <td>www.jnj.com</td>\n",
       "      <td>(732) 524-0400</td>\n",
       "      <td>False</td>\n",
       "    </tr>\n",
       "    <tr>\n",
       "      <th>1</th>\n",
       "      <td>Pfizer Inc.</td>\n",
       "      <td>New York(Usa)</td>\n",
       "      <td>Headquarters</td>\n",
       "      <td>$81,288,000,000</td>\n",
       "      <td>www.pfizer.com</td>\n",
       "      <td>(212) 733-2323</td>\n",
       "      <td>False</td>\n",
       "    </tr>\n",
       "    <tr>\n",
       "      <th>2</th>\n",
       "      <td>Abbvie Inc.</td>\n",
       "      <td>Illinois(Usa)</td>\n",
       "      <td>Headquarters</td>\n",
       "      <td>$56,197,000,000</td>\n",
       "      <td>www.abbvie.com</td>\n",
       "      <td>(847) 932-7900</td>\n",
       "      <td>False</td>\n",
       "    </tr>\n",
       "    <tr>\n",
       "      <th>3</th>\n",
       "      <td>Novartis Pharmaceuticals Corporation</td>\n",
       "      <td>New Jersey(Usa)</td>\n",
       "      <td>Headquarters</td>\n",
       "      <td>$49,436,000,000</td>\n",
       "      <td>www.novartis.us</td>\n",
       "      <td>(862) 778-8300</td>\n",
       "      <td>False</td>\n",
       "    </tr>\n",
       "    <tr>\n",
       "      <th>4</th>\n",
       "      <td>Merck &amp; Co., Inc.</td>\n",
       "      <td>New Jersey(Usa)</td>\n",
       "      <td>Headquarters</td>\n",
       "      <td>$48,704,000,000</td>\n",
       "      <td>www.merck.com</td>\n",
       "      <td>(908) 740-4000</td>\n",
       "      <td>False</td>\n",
       "    </tr>\n",
       "  </tbody>\n",
       "</table>\n",
       "</div>"
      ],
      "text/plain": [
       "                           company_name         Location location_type  \\\n",
       "0                     Johnson & Johnson  New Jersey(Usa)  Headquarters   \n",
       "1                           Pfizer Inc.    New York(Usa)  Headquarters   \n",
       "2                           Abbvie Inc.    Illinois(Usa)  Headquarters   \n",
       "3  Novartis Pharmaceuticals Corporation  New Jersey(Usa)  Headquarters   \n",
       "4                     Merck & Co., Inc.  New Jersey(Usa)  Headquarters   \n",
       "\n",
       "             Sales              URL    phone_number   bool  \n",
       "0  $93,775,000,000      www.jnj.com  (732) 524-0400  False  \n",
       "1  $81,288,000,000   www.pfizer.com  (212) 733-2323  False  \n",
       "2  $56,197,000,000   www.abbvie.com  (847) 932-7900  False  \n",
       "3  $49,436,000,000  www.novartis.us  (862) 778-8300  False  \n",
       "4  $48,704,000,000    www.merck.com  (908) 740-4000  False  "
      ]
     },
     "execution_count": 17,
     "metadata": {},
     "output_type": "execute_result"
    }
   ],
   "source": [
    "df.head(5)"
   ]
  },
  {
   "cell_type": "code",
   "execution_count": 18,
   "id": "12ebd7f5-56f1-494f-a98b-22aa70093db9",
   "metadata": {},
   "outputs": [],
   "source": [
    "## We will now drop the bool column:\n",
    "df.drop(columns = ['bool'], inplace = True)"
   ]
  },
  {
   "cell_type": "code",
   "execution_count": 19,
   "id": "88c602d0-1523-47fa-ab3e-041a954caddb",
   "metadata": {},
   "outputs": [
    {
     "data": {
      "text/html": [
       "<div>\n",
       "<style scoped>\n",
       "    .dataframe tbody tr th:only-of-type {\n",
       "        vertical-align: middle;\n",
       "    }\n",
       "\n",
       "    .dataframe tbody tr th {\n",
       "        vertical-align: top;\n",
       "    }\n",
       "\n",
       "    .dataframe thead th {\n",
       "        text-align: right;\n",
       "    }\n",
       "</style>\n",
       "<table border=\"1\" class=\"dataframe\">\n",
       "  <thead>\n",
       "    <tr style=\"text-align: right;\">\n",
       "      <th></th>\n",
       "      <th>company_name</th>\n",
       "      <th>Location</th>\n",
       "      <th>location_type</th>\n",
       "      <th>Sales</th>\n",
       "      <th>URL</th>\n",
       "      <th>phone_number</th>\n",
       "    </tr>\n",
       "  </thead>\n",
       "  <tbody>\n",
       "    <tr>\n",
       "      <th>0</th>\n",
       "      <td>Johnson &amp; Johnson</td>\n",
       "      <td>New Jersey(Usa)</td>\n",
       "      <td>Headquarters</td>\n",
       "      <td>$93,775,000,000</td>\n",
       "      <td>www.jnj.com</td>\n",
       "      <td>(732) 524-0400</td>\n",
       "    </tr>\n",
       "    <tr>\n",
       "      <th>1</th>\n",
       "      <td>Pfizer Inc.</td>\n",
       "      <td>New York(Usa)</td>\n",
       "      <td>Headquarters</td>\n",
       "      <td>$81,288,000,000</td>\n",
       "      <td>www.pfizer.com</td>\n",
       "      <td>(212) 733-2323</td>\n",
       "    </tr>\n",
       "    <tr>\n",
       "      <th>2</th>\n",
       "      <td>Abbvie Inc.</td>\n",
       "      <td>Illinois(Usa)</td>\n",
       "      <td>Headquarters</td>\n",
       "      <td>$56,197,000,000</td>\n",
       "      <td>www.abbvie.com</td>\n",
       "      <td>(847) 932-7900</td>\n",
       "    </tr>\n",
       "    <tr>\n",
       "      <th>3</th>\n",
       "      <td>Novartis Pharmaceuticals Corporation</td>\n",
       "      <td>New Jersey(Usa)</td>\n",
       "      <td>Headquarters</td>\n",
       "      <td>$49,436,000,000</td>\n",
       "      <td>www.novartis.us</td>\n",
       "      <td>(862) 778-8300</td>\n",
       "    </tr>\n",
       "    <tr>\n",
       "      <th>4</th>\n",
       "      <td>Merck &amp; Co., Inc.</td>\n",
       "      <td>New Jersey(Usa)</td>\n",
       "      <td>Headquarters</td>\n",
       "      <td>$48,704,000,000</td>\n",
       "      <td>www.merck.com</td>\n",
       "      <td>(908) 740-4000</td>\n",
       "    </tr>\n",
       "  </tbody>\n",
       "</table>\n",
       "</div>"
      ],
      "text/plain": [
       "                           company_name         Location location_type  \\\n",
       "0                     Johnson & Johnson  New Jersey(Usa)  Headquarters   \n",
       "1                           Pfizer Inc.    New York(Usa)  Headquarters   \n",
       "2                           Abbvie Inc.    Illinois(Usa)  Headquarters   \n",
       "3  Novartis Pharmaceuticals Corporation  New Jersey(Usa)  Headquarters   \n",
       "4                     Merck & Co., Inc.  New Jersey(Usa)  Headquarters   \n",
       "\n",
       "             Sales              URL    phone_number  \n",
       "0  $93,775,000,000      www.jnj.com  (732) 524-0400  \n",
       "1  $81,288,000,000   www.pfizer.com  (212) 733-2323  \n",
       "2  $56,197,000,000   www.abbvie.com  (847) 932-7900  \n",
       "3  $49,436,000,000  www.novartis.us  (862) 778-8300  \n",
       "4  $48,704,000,000    www.merck.com  (908) 740-4000  "
      ]
     },
     "execution_count": 19,
     "metadata": {},
     "output_type": "execute_result"
    }
   ],
   "source": [
    "df.head(5)"
   ]
  },
  {
   "cell_type": "code",
   "execution_count": 20,
   "id": "24faf39d-d0c4-4f19-965d-acc6ce4cc2a1",
   "metadata": {},
   "outputs": [],
   "source": [
    "## Make a separate dataframe for Canada and the US\n",
    "a = []\n",
    "for i,j in df.iterrows():\n",
    "    if 'Canada' in j['Location']:\n",
    "        a.append(j)\n",
    "df_canada = pd.DataFrame(a, columns = df.columns)"
   ]
  },
  {
   "cell_type": "code",
   "execution_count": 21,
   "id": "40b3f94f-e1fe-4ea8-8378-87c33702bf0b",
   "metadata": {},
   "outputs": [],
   "source": [
    "df_canada.reset_index(drop = True, inplace = True)"
   ]
  },
  {
   "cell_type": "code",
   "execution_count": 22,
   "id": "f738bbc6-85fc-4800-9779-4ca913e31402",
   "metadata": {},
   "outputs": [
    {
     "data": {
      "text/html": [
       "<div>\n",
       "<style scoped>\n",
       "    .dataframe tbody tr th:only-of-type {\n",
       "        vertical-align: middle;\n",
       "    }\n",
       "\n",
       "    .dataframe tbody tr th {\n",
       "        vertical-align: top;\n",
       "    }\n",
       "\n",
       "    .dataframe thead th {\n",
       "        text-align: right;\n",
       "    }\n",
       "</style>\n",
       "<table border=\"1\" class=\"dataframe\">\n",
       "  <thead>\n",
       "    <tr style=\"text-align: right;\">\n",
       "      <th></th>\n",
       "      <th>company_name</th>\n",
       "      <th>Location</th>\n",
       "      <th>location_type</th>\n",
       "      <th>Sales</th>\n",
       "      <th>URL</th>\n",
       "      <th>phone_number</th>\n",
       "    </tr>\n",
       "  </thead>\n",
       "  <tbody>\n",
       "    <tr>\n",
       "      <th>0</th>\n",
       "      <td>Bausch Health Companies Inc</td>\n",
       "      <td>Quebec(Canada)</td>\n",
       "      <td>Headquarters</td>\n",
       "      <td>$8,601,000,000</td>\n",
       "      <td>www.bauschhealth.com</td>\n",
       "      <td>NaN</td>\n",
       "    </tr>\n",
       "    <tr>\n",
       "      <th>1</th>\n",
       "      <td>Apotex Inc</td>\n",
       "      <td>Ontario(Canada)</td>\n",
       "      <td>Headquarters</td>\n",
       "      <td>$2,652,752,000</td>\n",
       "      <td>www.apotex.com</td>\n",
       "      <td>4.164017e+09</td>\n",
       "    </tr>\n",
       "    <tr>\n",
       "      <th>2</th>\n",
       "      <td>Patheon Inc</td>\n",
       "      <td>Ontario(Canada)</td>\n",
       "      <td>Headquarters</td>\n",
       "      <td>$2,155,361,000</td>\n",
       "      <td>www.patheon.com</td>\n",
       "      <td>9.058214e+09</td>\n",
       "    </tr>\n",
       "    <tr>\n",
       "      <th>3</th>\n",
       "      <td>Arch Biopartners Inc</td>\n",
       "      <td>Ontario(Canada)</td>\n",
       "      <td>Headquarters</td>\n",
       "      <td>$1,701,275,774</td>\n",
       "      <td>www.archbiopartners.com</td>\n",
       "      <td>6.474287e+09</td>\n",
       "    </tr>\n",
       "    <tr>\n",
       "      <th>4</th>\n",
       "      <td>Novartis Pharmaceuticals Canada Inc</td>\n",
       "      <td>Quebec(Canada)</td>\n",
       "      <td>Headquarters</td>\n",
       "      <td>$663,188,000</td>\n",
       "      <td>www.novartis.ca</td>\n",
       "      <td>5.146317e+09</td>\n",
       "    </tr>\n",
       "  </tbody>\n",
       "</table>\n",
       "</div>"
      ],
      "text/plain": [
       "                          company_name         Location location_type  \\\n",
       "0          Bausch Health Companies Inc   Quebec(Canada)  Headquarters   \n",
       "1                           Apotex Inc  Ontario(Canada)  Headquarters   \n",
       "2                          Patheon Inc  Ontario(Canada)  Headquarters   \n",
       "3                 Arch Biopartners Inc  Ontario(Canada)  Headquarters   \n",
       "4  Novartis Pharmaceuticals Canada Inc   Quebec(Canada)  Headquarters   \n",
       "\n",
       "            Sales                      URL  phone_number  \n",
       "0  $8,601,000,000     www.bauschhealth.com           NaN  \n",
       "1  $2,652,752,000           www.apotex.com  4.164017e+09  \n",
       "2  $2,155,361,000          www.patheon.com  9.058214e+09  \n",
       "3  $1,701,275,774  www.archbiopartners.com  6.474287e+09  \n",
       "4    $663,188,000          www.novartis.ca  5.146317e+09  "
      ]
     },
     "execution_count": 22,
     "metadata": {},
     "output_type": "execute_result"
    }
   ],
   "source": [
    "df_canada.head(5)"
   ]
  },
  {
   "cell_type": "code",
   "execution_count": 23,
   "id": "92de9f50-782d-4c2e-8dda-6e99d49252a0",
   "metadata": {},
   "outputs": [],
   "source": [
    "## Separate Dataframe for the US:\n",
    "a = []\n",
    "for i,j in df.iterrows():\n",
    "    if 'Usa' in j['Location']:\n",
    "        a.append(j)\n",
    "df_usa = pd.DataFrame(a, columns = df.columns)"
   ]
  },
  {
   "cell_type": "code",
   "execution_count": 24,
   "id": "3bddeccd-02d0-40f0-8d5c-1e966c466af3",
   "metadata": {},
   "outputs": [],
   "source": [
    "df_usa.reset_index(drop = True, inplace = True)"
   ]
  },
  {
   "cell_type": "code",
   "execution_count": 25,
   "id": "76e81f41-7be4-4a59-a486-cd2f40ac5231",
   "metadata": {},
   "outputs": [
    {
     "data": {
      "text/html": [
       "<div>\n",
       "<style scoped>\n",
       "    .dataframe tbody tr th:only-of-type {\n",
       "        vertical-align: middle;\n",
       "    }\n",
       "\n",
       "    .dataframe tbody tr th {\n",
       "        vertical-align: top;\n",
       "    }\n",
       "\n",
       "    .dataframe thead th {\n",
       "        text-align: right;\n",
       "    }\n",
       "</style>\n",
       "<table border=\"1\" class=\"dataframe\">\n",
       "  <thead>\n",
       "    <tr style=\"text-align: right;\">\n",
       "      <th></th>\n",
       "      <th>company_name</th>\n",
       "      <th>Location</th>\n",
       "      <th>location_type</th>\n",
       "      <th>Sales</th>\n",
       "      <th>URL</th>\n",
       "      <th>phone_number</th>\n",
       "    </tr>\n",
       "  </thead>\n",
       "  <tbody>\n",
       "    <tr>\n",
       "      <th>0</th>\n",
       "      <td>Johnson &amp; Johnson</td>\n",
       "      <td>New Jersey(Usa)</td>\n",
       "      <td>Headquarters</td>\n",
       "      <td>$93,775,000,000</td>\n",
       "      <td>www.jnj.com</td>\n",
       "      <td>(732) 524-0400</td>\n",
       "    </tr>\n",
       "    <tr>\n",
       "      <th>1</th>\n",
       "      <td>Pfizer Inc.</td>\n",
       "      <td>New York(Usa)</td>\n",
       "      <td>Headquarters</td>\n",
       "      <td>$81,288,000,000</td>\n",
       "      <td>www.pfizer.com</td>\n",
       "      <td>(212) 733-2323</td>\n",
       "    </tr>\n",
       "    <tr>\n",
       "      <th>2</th>\n",
       "      <td>Abbvie Inc.</td>\n",
       "      <td>Illinois(Usa)</td>\n",
       "      <td>Headquarters</td>\n",
       "      <td>$56,197,000,000</td>\n",
       "      <td>www.abbvie.com</td>\n",
       "      <td>(847) 932-7900</td>\n",
       "    </tr>\n",
       "    <tr>\n",
       "      <th>3</th>\n",
       "      <td>Novartis Pharmaceuticals Corporation</td>\n",
       "      <td>New Jersey(Usa)</td>\n",
       "      <td>Headquarters</td>\n",
       "      <td>$49,436,000,000</td>\n",
       "      <td>www.novartis.us</td>\n",
       "      <td>(862) 778-8300</td>\n",
       "    </tr>\n",
       "    <tr>\n",
       "      <th>4</th>\n",
       "      <td>Merck &amp; Co., Inc.</td>\n",
       "      <td>New Jersey(Usa)</td>\n",
       "      <td>Headquarters</td>\n",
       "      <td>$48,704,000,000</td>\n",
       "      <td>www.merck.com</td>\n",
       "      <td>(908) 740-4000</td>\n",
       "    </tr>\n",
       "  </tbody>\n",
       "</table>\n",
       "</div>"
      ],
      "text/plain": [
       "                           company_name         Location location_type  \\\n",
       "0                     Johnson & Johnson  New Jersey(Usa)  Headquarters   \n",
       "1                           Pfizer Inc.    New York(Usa)  Headquarters   \n",
       "2                           Abbvie Inc.    Illinois(Usa)  Headquarters   \n",
       "3  Novartis Pharmaceuticals Corporation  New Jersey(Usa)  Headquarters   \n",
       "4                     Merck & Co., Inc.  New Jersey(Usa)  Headquarters   \n",
       "\n",
       "             Sales              URL    phone_number  \n",
       "0  $93,775,000,000      www.jnj.com  (732) 524-0400  \n",
       "1  $81,288,000,000   www.pfizer.com  (212) 733-2323  \n",
       "2  $56,197,000,000   www.abbvie.com  (847) 932-7900  \n",
       "3  $49,436,000,000  www.novartis.us  (862) 778-8300  \n",
       "4  $48,704,000,000    www.merck.com  (908) 740-4000  "
      ]
     },
     "execution_count": 25,
     "metadata": {},
     "output_type": "execute_result"
    }
   ],
   "source": [
    "df_usa.head(5)"
   ]
  },
  {
   "cell_type": "code",
   "execution_count": 26,
   "id": "dbfe02bf-3742-4f27-86f6-ac62936d7899",
   "metadata": {},
   "outputs": [],
   "source": [
    "## We will now define a function to check the datatypes of elements in each column:\n",
    "def ask_dtype(column):\n",
    "    a = set()\n",
    "    for i in column:\n",
    "        b = type(i)\n",
    "        a.add(b)\n",
    "        return a"
   ]
  },
  {
   "cell_type": "code",
   "execution_count": 27,
   "id": "11848f3a-4f4b-406b-af12-74f4d4fa9515",
   "metadata": {},
   "outputs": [
    {
     "data": {
      "text/plain": [
       "{str}"
      ]
     },
     "execution_count": 27,
     "metadata": {},
     "output_type": "execute_result"
    }
   ],
   "source": [
    "ask_dtype(df_usa['Sales'])"
   ]
  },
  {
   "cell_type": "code",
   "execution_count": 28,
   "id": "09a89da1-94b7-4a02-b4a9-91ba547b0cc1",
   "metadata": {},
   "outputs": [
    {
     "data": {
      "text/plain": [
       "{str}"
      ]
     },
     "execution_count": 28,
     "metadata": {},
     "output_type": "execute_result"
    }
   ],
   "source": [
    "ask_dtype(df_canada['Sales'])"
   ]
  },
  {
   "cell_type": "code",
   "execution_count": 29,
   "id": "84752e91-a59e-4a52-be12-5f9bb07717c3",
   "metadata": {},
   "outputs": [],
   "source": [
    "## Converting the Sales column into float for easier analysis (for USA):\n",
    "for i,j in enumerate(df_usa['Sales']):\n",
    "    if type(j) == str:\n",
    "        j = j.replace('$', '').replace(',', '')\n",
    "        j = float(j)\n",
    "        df_usa.at[i, 'Sales'] = j"
   ]
  },
  {
   "cell_type": "code",
   "execution_count": 30,
   "id": "c341503a-0834-4b06-bf08-d3e76074e9e6",
   "metadata": {},
   "outputs": [
    {
     "data": {
      "text/html": [
       "<div>\n",
       "<style scoped>\n",
       "    .dataframe tbody tr th:only-of-type {\n",
       "        vertical-align: middle;\n",
       "    }\n",
       "\n",
       "    .dataframe tbody tr th {\n",
       "        vertical-align: top;\n",
       "    }\n",
       "\n",
       "    .dataframe thead th {\n",
       "        text-align: right;\n",
       "    }\n",
       "</style>\n",
       "<table border=\"1\" class=\"dataframe\">\n",
       "  <thead>\n",
       "    <tr style=\"text-align: right;\">\n",
       "      <th></th>\n",
       "      <th>company_name</th>\n",
       "      <th>Location</th>\n",
       "      <th>location_type</th>\n",
       "      <th>Sales</th>\n",
       "      <th>URL</th>\n",
       "      <th>phone_number</th>\n",
       "    </tr>\n",
       "  </thead>\n",
       "  <tbody>\n",
       "    <tr>\n",
       "      <th>0</th>\n",
       "      <td>Johnson &amp; Johnson</td>\n",
       "      <td>New Jersey(Usa)</td>\n",
       "      <td>Headquarters</td>\n",
       "      <td>93775000000.0</td>\n",
       "      <td>www.jnj.com</td>\n",
       "      <td>(732) 524-0400</td>\n",
       "    </tr>\n",
       "    <tr>\n",
       "      <th>1</th>\n",
       "      <td>Pfizer Inc.</td>\n",
       "      <td>New York(Usa)</td>\n",
       "      <td>Headquarters</td>\n",
       "      <td>81288000000.0</td>\n",
       "      <td>www.pfizer.com</td>\n",
       "      <td>(212) 733-2323</td>\n",
       "    </tr>\n",
       "    <tr>\n",
       "      <th>2</th>\n",
       "      <td>Abbvie Inc.</td>\n",
       "      <td>Illinois(Usa)</td>\n",
       "      <td>Headquarters</td>\n",
       "      <td>56197000000.0</td>\n",
       "      <td>www.abbvie.com</td>\n",
       "      <td>(847) 932-7900</td>\n",
       "    </tr>\n",
       "    <tr>\n",
       "      <th>3</th>\n",
       "      <td>Novartis Pharmaceuticals Corporation</td>\n",
       "      <td>New Jersey(Usa)</td>\n",
       "      <td>Headquarters</td>\n",
       "      <td>49436000000.0</td>\n",
       "      <td>www.novartis.us</td>\n",
       "      <td>(862) 778-8300</td>\n",
       "    </tr>\n",
       "    <tr>\n",
       "      <th>4</th>\n",
       "      <td>Merck &amp; Co., Inc.</td>\n",
       "      <td>New Jersey(Usa)</td>\n",
       "      <td>Headquarters</td>\n",
       "      <td>48704000000.0</td>\n",
       "      <td>www.merck.com</td>\n",
       "      <td>(908) 740-4000</td>\n",
       "    </tr>\n",
       "  </tbody>\n",
       "</table>\n",
       "</div>"
      ],
      "text/plain": [
       "                           company_name         Location location_type  \\\n",
       "0                     Johnson & Johnson  New Jersey(Usa)  Headquarters   \n",
       "1                           Pfizer Inc.    New York(Usa)  Headquarters   \n",
       "2                           Abbvie Inc.    Illinois(Usa)  Headquarters   \n",
       "3  Novartis Pharmaceuticals Corporation  New Jersey(Usa)  Headquarters   \n",
       "4                     Merck & Co., Inc.  New Jersey(Usa)  Headquarters   \n",
       "\n",
       "           Sales              URL    phone_number  \n",
       "0  93775000000.0      www.jnj.com  (732) 524-0400  \n",
       "1  81288000000.0   www.pfizer.com  (212) 733-2323  \n",
       "2  56197000000.0   www.abbvie.com  (847) 932-7900  \n",
       "3  49436000000.0  www.novartis.us  (862) 778-8300  \n",
       "4  48704000000.0    www.merck.com  (908) 740-4000  "
      ]
     },
     "execution_count": 30,
     "metadata": {},
     "output_type": "execute_result"
    }
   ],
   "source": [
    "df_usa.head(5)"
   ]
  },
  {
   "cell_type": "code",
   "execution_count": 31,
   "id": "b75e029c-19e9-47a7-97fd-926b72f3b463",
   "metadata": {},
   "outputs": [],
   "source": [
    "## Converting the Sales column into float for easier analysis (for Canada):\n",
    "for i,j in enumerate(df_canada['Sales']):\n",
    "    if type(j) == str:\n",
    "        j = j.replace('$', '').replace(',', '')\n",
    "        j = float(j)\n",
    "        df_canada.at[i, 'Sales'] = j"
   ]
  },
  {
   "cell_type": "code",
   "execution_count": 32,
   "id": "ebc12446-8bbb-4970-b6fa-388376d5015e",
   "metadata": {},
   "outputs": [
    {
     "data": {
      "text/html": [
       "<div>\n",
       "<style scoped>\n",
       "    .dataframe tbody tr th:only-of-type {\n",
       "        vertical-align: middle;\n",
       "    }\n",
       "\n",
       "    .dataframe tbody tr th {\n",
       "        vertical-align: top;\n",
       "    }\n",
       "\n",
       "    .dataframe thead th {\n",
       "        text-align: right;\n",
       "    }\n",
       "</style>\n",
       "<table border=\"1\" class=\"dataframe\">\n",
       "  <thead>\n",
       "    <tr style=\"text-align: right;\">\n",
       "      <th></th>\n",
       "      <th>company_name</th>\n",
       "      <th>Location</th>\n",
       "      <th>location_type</th>\n",
       "      <th>Sales</th>\n",
       "      <th>URL</th>\n",
       "      <th>phone_number</th>\n",
       "    </tr>\n",
       "  </thead>\n",
       "  <tbody>\n",
       "    <tr>\n",
       "      <th>0</th>\n",
       "      <td>Bausch Health Companies Inc</td>\n",
       "      <td>Quebec(Canada)</td>\n",
       "      <td>Headquarters</td>\n",
       "      <td>8601000000.0</td>\n",
       "      <td>www.bauschhealth.com</td>\n",
       "      <td>NaN</td>\n",
       "    </tr>\n",
       "    <tr>\n",
       "      <th>1</th>\n",
       "      <td>Apotex Inc</td>\n",
       "      <td>Ontario(Canada)</td>\n",
       "      <td>Headquarters</td>\n",
       "      <td>2652752000.0</td>\n",
       "      <td>www.apotex.com</td>\n",
       "      <td>4.164017e+09</td>\n",
       "    </tr>\n",
       "    <tr>\n",
       "      <th>2</th>\n",
       "      <td>Patheon Inc</td>\n",
       "      <td>Ontario(Canada)</td>\n",
       "      <td>Headquarters</td>\n",
       "      <td>2155361000.0</td>\n",
       "      <td>www.patheon.com</td>\n",
       "      <td>9.058214e+09</td>\n",
       "    </tr>\n",
       "    <tr>\n",
       "      <th>3</th>\n",
       "      <td>Arch Biopartners Inc</td>\n",
       "      <td>Ontario(Canada)</td>\n",
       "      <td>Headquarters</td>\n",
       "      <td>1701275774.0</td>\n",
       "      <td>www.archbiopartners.com</td>\n",
       "      <td>6.474287e+09</td>\n",
       "    </tr>\n",
       "    <tr>\n",
       "      <th>4</th>\n",
       "      <td>Novartis Pharmaceuticals Canada Inc</td>\n",
       "      <td>Quebec(Canada)</td>\n",
       "      <td>Headquarters</td>\n",
       "      <td>663188000.0</td>\n",
       "      <td>www.novartis.ca</td>\n",
       "      <td>5.146317e+09</td>\n",
       "    </tr>\n",
       "  </tbody>\n",
       "</table>\n",
       "</div>"
      ],
      "text/plain": [
       "                          company_name         Location location_type  \\\n",
       "0          Bausch Health Companies Inc   Quebec(Canada)  Headquarters   \n",
       "1                           Apotex Inc  Ontario(Canada)  Headquarters   \n",
       "2                          Patheon Inc  Ontario(Canada)  Headquarters   \n",
       "3                 Arch Biopartners Inc  Ontario(Canada)  Headquarters   \n",
       "4  Novartis Pharmaceuticals Canada Inc   Quebec(Canada)  Headquarters   \n",
       "\n",
       "          Sales                      URL  phone_number  \n",
       "0  8601000000.0     www.bauschhealth.com           NaN  \n",
       "1  2652752000.0           www.apotex.com  4.164017e+09  \n",
       "2  2155361000.0          www.patheon.com  9.058214e+09  \n",
       "3  1701275774.0  www.archbiopartners.com  6.474287e+09  \n",
       "4   663188000.0          www.novartis.ca  5.146317e+09  "
      ]
     },
     "execution_count": 32,
     "metadata": {},
     "output_type": "execute_result"
    }
   ],
   "source": [
    "df_canada.head(5)"
   ]
  },
  {
   "cell_type": "code",
   "execution_count": 33,
   "id": "8fc89f46-a405-4211-8988-9eb68e6da05d",
   "metadata": {},
   "outputs": [],
   "source": [
    "## We just want to get the Headquarters. So we will filter for headquarters based on the location_type"
   ]
  },
  {
   "cell_type": "code",
   "execution_count": 34,
   "id": "4ea73235-e268-49f1-8247-bb90e10af3ea",
   "metadata": {},
   "outputs": [],
   "source": [
    "df_usa_hq = df_usa.loc[df_usa['location_type'] == 'Headquarters']"
   ]
  },
  {
   "cell_type": "code",
   "execution_count": 35,
   "id": "b7a6a709-01b2-445e-9b20-443bbd94c480",
   "metadata": {},
   "outputs": [],
   "source": [
    "df_usa_hq.reset_index(drop = True, inplace = True)"
   ]
  },
  {
   "cell_type": "code",
   "execution_count": 36,
   "id": "1c4a0ada-e98a-45f5-b36e-3595b2f5739b",
   "metadata": {},
   "outputs": [
    {
     "data": {
      "text/html": [
       "<div>\n",
       "<style scoped>\n",
       "    .dataframe tbody tr th:only-of-type {\n",
       "        vertical-align: middle;\n",
       "    }\n",
       "\n",
       "    .dataframe tbody tr th {\n",
       "        vertical-align: top;\n",
       "    }\n",
       "\n",
       "    .dataframe thead th {\n",
       "        text-align: right;\n",
       "    }\n",
       "</style>\n",
       "<table border=\"1\" class=\"dataframe\">\n",
       "  <thead>\n",
       "    <tr style=\"text-align: right;\">\n",
       "      <th></th>\n",
       "      <th>company_name</th>\n",
       "      <th>Location</th>\n",
       "      <th>location_type</th>\n",
       "      <th>Sales</th>\n",
       "      <th>URL</th>\n",
       "      <th>phone_number</th>\n",
       "    </tr>\n",
       "  </thead>\n",
       "  <tbody>\n",
       "    <tr>\n",
       "      <th>0</th>\n",
       "      <td>Johnson &amp; Johnson</td>\n",
       "      <td>New Jersey(Usa)</td>\n",
       "      <td>Headquarters</td>\n",
       "      <td>93775000000.0</td>\n",
       "      <td>www.jnj.com</td>\n",
       "      <td>(732) 524-0400</td>\n",
       "    </tr>\n",
       "    <tr>\n",
       "      <th>1</th>\n",
       "      <td>Pfizer Inc.</td>\n",
       "      <td>New York(Usa)</td>\n",
       "      <td>Headquarters</td>\n",
       "      <td>81288000000.0</td>\n",
       "      <td>www.pfizer.com</td>\n",
       "      <td>(212) 733-2323</td>\n",
       "    </tr>\n",
       "    <tr>\n",
       "      <th>2</th>\n",
       "      <td>Abbvie Inc.</td>\n",
       "      <td>Illinois(Usa)</td>\n",
       "      <td>Headquarters</td>\n",
       "      <td>56197000000.0</td>\n",
       "      <td>www.abbvie.com</td>\n",
       "      <td>(847) 932-7900</td>\n",
       "    </tr>\n",
       "    <tr>\n",
       "      <th>3</th>\n",
       "      <td>Novartis Pharmaceuticals Corporation</td>\n",
       "      <td>New Jersey(Usa)</td>\n",
       "      <td>Headquarters</td>\n",
       "      <td>49436000000.0</td>\n",
       "      <td>www.novartis.us</td>\n",
       "      <td>(862) 778-8300</td>\n",
       "    </tr>\n",
       "    <tr>\n",
       "      <th>4</th>\n",
       "      <td>Merck &amp; Co., Inc.</td>\n",
       "      <td>New Jersey(Usa)</td>\n",
       "      <td>Headquarters</td>\n",
       "      <td>48704000000.0</td>\n",
       "      <td>www.merck.com</td>\n",
       "      <td>(908) 740-4000</td>\n",
       "    </tr>\n",
       "  </tbody>\n",
       "</table>\n",
       "</div>"
      ],
      "text/plain": [
       "                           company_name         Location location_type  \\\n",
       "0                     Johnson & Johnson  New Jersey(Usa)  Headquarters   \n",
       "1                           Pfizer Inc.    New York(Usa)  Headquarters   \n",
       "2                           Abbvie Inc.    Illinois(Usa)  Headquarters   \n",
       "3  Novartis Pharmaceuticals Corporation  New Jersey(Usa)  Headquarters   \n",
       "4                     Merck & Co., Inc.  New Jersey(Usa)  Headquarters   \n",
       "\n",
       "           Sales              URL    phone_number  \n",
       "0  93775000000.0      www.jnj.com  (732) 524-0400  \n",
       "1  81288000000.0   www.pfizer.com  (212) 733-2323  \n",
       "2  56197000000.0   www.abbvie.com  (847) 932-7900  \n",
       "3  49436000000.0  www.novartis.us  (862) 778-8300  \n",
       "4  48704000000.0    www.merck.com  (908) 740-4000  "
      ]
     },
     "execution_count": 36,
     "metadata": {},
     "output_type": "execute_result"
    }
   ],
   "source": [
    "df_usa_hq.head(5)"
   ]
  },
  {
   "cell_type": "code",
   "execution_count": 37,
   "id": "f42333ea-61c4-42c1-ab9f-c33d27cf4606",
   "metadata": {},
   "outputs": [],
   "source": [
    "df_canada_hq = df_canada.loc[df_canada['location_type'] == 'Headquarters']"
   ]
  },
  {
   "cell_type": "code",
   "execution_count": 38,
   "id": "f704a46d-7f83-44c5-a3a8-0b2ce07c3417",
   "metadata": {},
   "outputs": [],
   "source": [
    "df_canada_hq.reset_index(drop = True, inplace = True)"
   ]
  },
  {
   "cell_type": "code",
   "execution_count": 39,
   "id": "c98331e5-5b77-4aab-bef4-64778424179f",
   "metadata": {},
   "outputs": [
    {
     "data": {
      "text/html": [
       "<div>\n",
       "<style scoped>\n",
       "    .dataframe tbody tr th:only-of-type {\n",
       "        vertical-align: middle;\n",
       "    }\n",
       "\n",
       "    .dataframe tbody tr th {\n",
       "        vertical-align: top;\n",
       "    }\n",
       "\n",
       "    .dataframe thead th {\n",
       "        text-align: right;\n",
       "    }\n",
       "</style>\n",
       "<table border=\"1\" class=\"dataframe\">\n",
       "  <thead>\n",
       "    <tr style=\"text-align: right;\">\n",
       "      <th></th>\n",
       "      <th>company_name</th>\n",
       "      <th>Location</th>\n",
       "      <th>location_type</th>\n",
       "      <th>Sales</th>\n",
       "      <th>URL</th>\n",
       "      <th>phone_number</th>\n",
       "    </tr>\n",
       "  </thead>\n",
       "  <tbody>\n",
       "    <tr>\n",
       "      <th>0</th>\n",
       "      <td>Bausch Health Companies Inc</td>\n",
       "      <td>Quebec(Canada)</td>\n",
       "      <td>Headquarters</td>\n",
       "      <td>8601000000.0</td>\n",
       "      <td>www.bauschhealth.com</td>\n",
       "      <td>NaN</td>\n",
       "    </tr>\n",
       "    <tr>\n",
       "      <th>1</th>\n",
       "      <td>Apotex Inc</td>\n",
       "      <td>Ontario(Canada)</td>\n",
       "      <td>Headquarters</td>\n",
       "      <td>2652752000.0</td>\n",
       "      <td>www.apotex.com</td>\n",
       "      <td>4.164017e+09</td>\n",
       "    </tr>\n",
       "    <tr>\n",
       "      <th>2</th>\n",
       "      <td>Patheon Inc</td>\n",
       "      <td>Ontario(Canada)</td>\n",
       "      <td>Headquarters</td>\n",
       "      <td>2155361000.0</td>\n",
       "      <td>www.patheon.com</td>\n",
       "      <td>9.058214e+09</td>\n",
       "    </tr>\n",
       "    <tr>\n",
       "      <th>3</th>\n",
       "      <td>Arch Biopartners Inc</td>\n",
       "      <td>Ontario(Canada)</td>\n",
       "      <td>Headquarters</td>\n",
       "      <td>1701275774.0</td>\n",
       "      <td>www.archbiopartners.com</td>\n",
       "      <td>6.474287e+09</td>\n",
       "    </tr>\n",
       "    <tr>\n",
       "      <th>4</th>\n",
       "      <td>Novartis Pharmaceuticals Canada Inc</td>\n",
       "      <td>Quebec(Canada)</td>\n",
       "      <td>Headquarters</td>\n",
       "      <td>663188000.0</td>\n",
       "      <td>www.novartis.ca</td>\n",
       "      <td>5.146317e+09</td>\n",
       "    </tr>\n",
       "  </tbody>\n",
       "</table>\n",
       "</div>"
      ],
      "text/plain": [
       "                          company_name         Location location_type  \\\n",
       "0          Bausch Health Companies Inc   Quebec(Canada)  Headquarters   \n",
       "1                           Apotex Inc  Ontario(Canada)  Headquarters   \n",
       "2                          Patheon Inc  Ontario(Canada)  Headquarters   \n",
       "3                 Arch Biopartners Inc  Ontario(Canada)  Headquarters   \n",
       "4  Novartis Pharmaceuticals Canada Inc   Quebec(Canada)  Headquarters   \n",
       "\n",
       "          Sales                      URL  phone_number  \n",
       "0  8601000000.0     www.bauschhealth.com           NaN  \n",
       "1  2652752000.0           www.apotex.com  4.164017e+09  \n",
       "2  2155361000.0          www.patheon.com  9.058214e+09  \n",
       "3  1701275774.0  www.archbiopartners.com  6.474287e+09  \n",
       "4   663188000.0          www.novartis.ca  5.146317e+09  "
      ]
     },
     "execution_count": 39,
     "metadata": {},
     "output_type": "execute_result"
    }
   ],
   "source": [
    "df_canada_hq.head(5)"
   ]
  },
  {
   "cell_type": "code",
   "execution_count": 40,
   "id": "b32b7342-7ace-4720-bc3e-807414191bda",
   "metadata": {},
   "outputs": [
    {
     "data": {
      "text/html": [
       "<div>\n",
       "<style scoped>\n",
       "    .dataframe tbody tr th:only-of-type {\n",
       "        vertical-align: middle;\n",
       "    }\n",
       "\n",
       "    .dataframe tbody tr th {\n",
       "        vertical-align: top;\n",
       "    }\n",
       "\n",
       "    .dataframe thead th {\n",
       "        text-align: right;\n",
       "    }\n",
       "</style>\n",
       "<table border=\"1\" class=\"dataframe\">\n",
       "  <thead>\n",
       "    <tr style=\"text-align: right;\">\n",
       "      <th></th>\n",
       "      <th>company_name</th>\n",
       "      <th>Location</th>\n",
       "      <th>location_type</th>\n",
       "      <th>Sales</th>\n",
       "      <th>URL</th>\n",
       "      <th>phone_number</th>\n",
       "    </tr>\n",
       "  </thead>\n",
       "  <tbody>\n",
       "    <tr>\n",
       "      <th>1657</th>\n",
       "      <td>Neoleukin Therapeutics, Inc.</td>\n",
       "      <td>Washington(Usa)</td>\n",
       "      <td>Headquarters</td>\n",
       "      <td>0.0</td>\n",
       "      <td>www.neoleukin.com</td>\n",
       "      <td>(866) 245-0312</td>\n",
       "    </tr>\n",
       "    <tr>\n",
       "      <th>1658</th>\n",
       "      <td>Rebus Holdings, Inc.</td>\n",
       "      <td>California(Usa)</td>\n",
       "      <td>Headquarters</td>\n",
       "      <td>0.0</td>\n",
       "      <td>NaN</td>\n",
       "      <td>(818) 597-7552</td>\n",
       "    </tr>\n",
       "    <tr>\n",
       "      <th>1710</th>\n",
       "      <td>180 Life Sciences Corp.</td>\n",
       "      <td>California(Usa)</td>\n",
       "      <td>Headquarters</td>\n",
       "      <td>0.0</td>\n",
       "      <td>www.kblmerger.com</td>\n",
       "      <td>(650) 507-0669</td>\n",
       "    </tr>\n",
       "    <tr>\n",
       "      <th>1711</th>\n",
       "      <td>9 Meters Biopharma, Inc.</td>\n",
       "      <td>North Carolina(Usa)</td>\n",
       "      <td>Headquarters</td>\n",
       "      <td>0.0</td>\n",
       "      <td>www.9meters.com</td>\n",
       "      <td>(919) 275-1933</td>\n",
       "    </tr>\n",
       "    <tr>\n",
       "      <th>1712</th>\n",
       "      <td>Achieve Life Science, Inc.</td>\n",
       "      <td>Washington(Usa)</td>\n",
       "      <td>Headquarters</td>\n",
       "      <td>0.0</td>\n",
       "      <td>www.achievelifesciences.com</td>\n",
       "      <td>(425) 686-1500</td>\n",
       "    </tr>\n",
       "    <tr>\n",
       "      <th>...</th>\n",
       "      <td>...</td>\n",
       "      <td>...</td>\n",
       "      <td>...</td>\n",
       "      <td>...</td>\n",
       "      <td>...</td>\n",
       "      <td>...</td>\n",
       "    </tr>\n",
       "    <tr>\n",
       "      <th>1796</th>\n",
       "      <td>Lixte Biotechnology Holdings, Inc.</td>\n",
       "      <td>California(Usa)</td>\n",
       "      <td>Headquarters</td>\n",
       "      <td>0.0</td>\n",
       "      <td>www.lixte.com</td>\n",
       "      <td>(631) 830-7092</td>\n",
       "    </tr>\n",
       "    <tr>\n",
       "      <th>1797</th>\n",
       "      <td>Lundbeck Seattle Biopharmaceuticals, Inc.</td>\n",
       "      <td>Washington(Usa)</td>\n",
       "      <td>Headquarters</td>\n",
       "      <td>0.0</td>\n",
       "      <td>www.lundbeck.com</td>\n",
       "      <td>(425) 205-2900</td>\n",
       "    </tr>\n",
       "    <tr>\n",
       "      <th>1798</th>\n",
       "      <td>Mabvax Therapeutics Holdings Inc.</td>\n",
       "      <td>California(Usa)</td>\n",
       "      <td>Headquarters</td>\n",
       "      <td>0.0</td>\n",
       "      <td>NaN</td>\n",
       "      <td>(858) 259-9405</td>\n",
       "    </tr>\n",
       "    <tr>\n",
       "      <th>1799</th>\n",
       "      <td>Madrigal Pharmaceuticals, Inc.</td>\n",
       "      <td>Pennsylvania(Usa)</td>\n",
       "      <td>Headquarters</td>\n",
       "      <td>0.0</td>\n",
       "      <td>www.madrigalpharma.com</td>\n",
       "      <td>(267) 824-2827</td>\n",
       "    </tr>\n",
       "    <tr>\n",
       "      <th>1800</th>\n",
       "      <td>Magenta Therapeutics, Inc.</td>\n",
       "      <td>Massachusetts(Usa)</td>\n",
       "      <td>Headquarters</td>\n",
       "      <td>0.0</td>\n",
       "      <td>www.magentatx.com</td>\n",
       "      <td>(857) 242-0170</td>\n",
       "    </tr>\n",
       "  </tbody>\n",
       "</table>\n",
       "<p>93 rows × 6 columns</p>\n",
       "</div>"
      ],
      "text/plain": [
       "                                   company_name             Location  \\\n",
       "1657               Neoleukin Therapeutics, Inc.      Washington(Usa)   \n",
       "1658                       Rebus Holdings, Inc.      California(Usa)   \n",
       "1710                    180 Life Sciences Corp.      California(Usa)   \n",
       "1711                   9 Meters Biopharma, Inc.  North Carolina(Usa)   \n",
       "1712                 Achieve Life Science, Inc.      Washington(Usa)   \n",
       "...                                         ...                  ...   \n",
       "1796         Lixte Biotechnology Holdings, Inc.      California(Usa)   \n",
       "1797  Lundbeck Seattle Biopharmaceuticals, Inc.      Washington(Usa)   \n",
       "1798          Mabvax Therapeutics Holdings Inc.      California(Usa)   \n",
       "1799             Madrigal Pharmaceuticals, Inc.    Pennsylvania(Usa)   \n",
       "1800                 Magenta Therapeutics, Inc.   Massachusetts(Usa)   \n",
       "\n",
       "     location_type Sales                          URL    phone_number  \n",
       "1657  Headquarters   0.0            www.neoleukin.com  (866) 245-0312  \n",
       "1658  Headquarters   0.0                          NaN  (818) 597-7552  \n",
       "1710  Headquarters   0.0            www.kblmerger.com  (650) 507-0669  \n",
       "1711  Headquarters   0.0              www.9meters.com  (919) 275-1933  \n",
       "1712  Headquarters   0.0  www.achievelifesciences.com  (425) 686-1500  \n",
       "...            ...   ...                          ...             ...  \n",
       "1796  Headquarters   0.0                www.lixte.com  (631) 830-7092  \n",
       "1797  Headquarters   0.0             www.lundbeck.com  (425) 205-2900  \n",
       "1798  Headquarters   0.0                          NaN  (858) 259-9405  \n",
       "1799  Headquarters   0.0       www.madrigalpharma.com  (267) 824-2827  \n",
       "1800  Headquarters   0.0            www.magentatx.com  (857) 242-0170  \n",
       "\n",
       "[93 rows x 6 columns]"
      ]
     },
     "execution_count": 40,
     "metadata": {},
     "output_type": "execute_result"
    }
   ],
   "source": [
    "## Now check for companies that have 0 sales:\n",
    "df_usa_hq.loc[df_usa_hq['Sales'] == 0]"
   ]
  },
  {
   "cell_type": "code",
   "execution_count": 41,
   "id": "3b5f26de-dd93-4136-bb85-eecfd7b29936",
   "metadata": {},
   "outputs": [
    {
     "data": {
      "text/html": [
       "<div>\n",
       "<style scoped>\n",
       "    .dataframe tbody tr th:only-of-type {\n",
       "        vertical-align: middle;\n",
       "    }\n",
       "\n",
       "    .dataframe tbody tr th {\n",
       "        vertical-align: top;\n",
       "    }\n",
       "\n",
       "    .dataframe thead th {\n",
       "        text-align: right;\n",
       "    }\n",
       "</style>\n",
       "<table border=\"1\" class=\"dataframe\">\n",
       "  <thead>\n",
       "    <tr style=\"text-align: right;\">\n",
       "      <th></th>\n",
       "      <th>company_name</th>\n",
       "      <th>Location</th>\n",
       "      <th>location_type</th>\n",
       "      <th>Sales</th>\n",
       "      <th>URL</th>\n",
       "      <th>phone_number</th>\n",
       "    </tr>\n",
       "  </thead>\n",
       "  <tbody>\n",
       "    <tr>\n",
       "      <th>127</th>\n",
       "      <td>Agraflora Organics International Inc</td>\n",
       "      <td>British Columbia(Canada)</td>\n",
       "      <td>Headquarters</td>\n",
       "      <td>0.0</td>\n",
       "      <td>www.puf.ca</td>\n",
       "      <td>8.007836e+09</td>\n",
       "    </tr>\n",
       "  </tbody>\n",
       "</table>\n",
       "</div>"
      ],
      "text/plain": [
       "                             company_name                  Location  \\\n",
       "127  Agraflora Organics International Inc  British Columbia(Canada)   \n",
       "\n",
       "    location_type Sales         URL  phone_number  \n",
       "127  Headquarters   0.0  www.puf.ca  8.007836e+09  "
      ]
     },
     "execution_count": 41,
     "metadata": {},
     "output_type": "execute_result"
    }
   ],
   "source": [
    "df_canada_hq.loc[df_canada_hq['Sales'] == 0]"
   ]
  },
  {
   "cell_type": "code",
   "execution_count": 42,
   "id": "732462ce-6235-4093-9299-400581798eee",
   "metadata": {},
   "outputs": [],
   "source": [
    "## The sales column in both the USA and Canada dataframes have 0s. We will remove the companies that have 0 sales:\n",
    "# Can also use filter here\n",
    "def drp_row(df):\n",
    "    df['Sales'] = df['Sales'].astype(str)\n",
    "    for i,j in df.iterrows():\n",
    "        if j['Sales'] == '0.0':\n",
    "            df.drop(i, axis = 0, inplace = True)\n"
   ]
  },
  {
   "cell_type": "code",
   "execution_count": 43,
   "id": "654a5cee-9aa9-4521-b94d-81e01e5c1ce1",
   "metadata": {},
   "outputs": [],
   "source": [
    "## Use the drp_row function:\n",
    "drp_row(df_canada_hq)"
   ]
  },
  {
   "cell_type": "code",
   "execution_count": 44,
   "id": "b68a0c54-a5d1-4e6c-975f-ddc918abc6d5",
   "metadata": {},
   "outputs": [
    {
     "data": {
      "text/plain": [
       "str"
      ]
     },
     "execution_count": 44,
     "metadata": {},
     "output_type": "execute_result"
    }
   ],
   "source": [
    "type(df_canada_hq.at[3, 'Sales'])"
   ]
  },
  {
   "cell_type": "code",
   "execution_count": 45,
   "id": "b85ee60f-7efb-4b09-9b41-4c7a230b6e5e",
   "metadata": {},
   "outputs": [],
   "source": [
    "df_canada_hq['Sales'] = df_canada_hq['Sales'].astype(float).astype(int)"
   ]
  },
  {
   "cell_type": "code",
   "execution_count": 46,
   "id": "8abd3a49-a1b6-460d-ae31-2b21ab3fe58d",
   "metadata": {},
   "outputs": [],
   "source": [
    "## Use the drp_row function:\n",
    "drp_row(df_usa_hq)"
   ]
  },
  {
   "cell_type": "code",
   "execution_count": 47,
   "id": "05891b11-32b7-4931-9b08-eaf1f0609294",
   "metadata": {},
   "outputs": [],
   "source": [
    "df_usa_hq['Sales'] = df_usa_hq['Sales'].astype(float).astype(int)"
   ]
  },
  {
   "cell_type": "markdown",
   "id": "a072e31c-e23a-4caa-a44f-6bc9b1e03efd",
   "metadata": {},
   "source": [
    "### We now have cleaned and finalized our dataframes:\n",
    "+ df_usa_hq for the United States\n",
    "+ df_canada_hq for Canada"
   ]
  },
  {
   "cell_type": "code",
   "execution_count": 48,
   "id": "f5146660-f974-420a-a3ef-e9f8ce14e904",
   "metadata": {},
   "outputs": [],
   "source": [
    "a = pd.DataFrame(df_usa_hq.groupby('Location').count()['company_name'])\n"
   ]
  },
  {
   "cell_type": "code",
   "execution_count": 49,
   "id": "f12f9966-7106-4e92-86d3-bceca1afd74d",
   "metadata": {},
   "outputs": [
    {
     "data": {
      "text/plain": [
       "Text(0.5, 1.0, 'No of companies in the US cities/states')"
      ]
     },
     "execution_count": 49,
     "metadata": {},
     "output_type": "execute_result"
    },
    {
     "data": {
      "image/png": "[encoded data removed]",
      "text/plain": [
       "<Figure size 1440x1440 with 1 Axes>"
      ]
     },
     "metadata": {
      "needs_background": "light"
     },
     "output_type": "display_data"
    }
   ],
   "source": [
    "plt.figure(figsize=(20,20))\n",
    "plt.barh(a.index, a['company_name'])\n",
    "plt.ylabel('Cities/States')\n",
    "plt.xlabel('No. of companies')\n",
    "plt.title('No of companies in the US cities/states')"
   ]
  },
  {
   "cell_type": "code",
   "execution_count": 50,
   "id": "aee2755f-3439-489c-8b34-e3c1d791beeb",
   "metadata": {},
   "outputs": [
    {
     "data": {
      "text/html": [
       "<div>\n",
       "<style scoped>\n",
       "    .dataframe tbody tr th:only-of-type {\n",
       "        vertical-align: middle;\n",
       "    }\n",
       "\n",
       "    .dataframe tbody tr th {\n",
       "        vertical-align: top;\n",
       "    }\n",
       "\n",
       "    .dataframe thead th {\n",
       "        text-align: right;\n",
       "    }\n",
       "</style>\n",
       "<table border=\"1\" class=\"dataframe\">\n",
       "  <thead>\n",
       "    <tr style=\"text-align: right;\">\n",
       "      <th></th>\n",
       "      <th>company_name</th>\n",
       "    </tr>\n",
       "    <tr>\n",
       "      <th>Location</th>\n",
       "      <th></th>\n",
       "    </tr>\n",
       "  </thead>\n",
       "  <tbody>\n",
       "    <tr>\n",
       "      <th>Alberta(Canada)</th>\n",
       "      <td>7</td>\n",
       "    </tr>\n",
       "    <tr>\n",
       "      <th>British Columbia(Canada)</th>\n",
       "      <td>24</td>\n",
       "    </tr>\n",
       "    <tr>\n",
       "      <th>Manitoba(Canada)</th>\n",
       "      <td>4</td>\n",
       "    </tr>\n",
       "    <tr>\n",
       "      <th>New Brunswick(Canada)</th>\n",
       "      <td>1</td>\n",
       "    </tr>\n",
       "    <tr>\n",
       "      <th>Ontario(Canada)</th>\n",
       "      <td>47</td>\n",
       "    </tr>\n",
       "    <tr>\n",
       "      <th>Prince Edward Island(Canada)</th>\n",
       "      <td>2</td>\n",
       "    </tr>\n",
       "    <tr>\n",
       "      <th>Quebec(Canada)</th>\n",
       "      <td>42</td>\n",
       "    </tr>\n",
       "  </tbody>\n",
       "</table>\n",
       "</div>"
      ],
      "text/plain": [
       "                              company_name\n",
       "Location                                  \n",
       "Alberta(Canada)                          7\n",
       "British Columbia(Canada)                24\n",
       "Manitoba(Canada)                         4\n",
       "New Brunswick(Canada)                    1\n",
       "Ontario(Canada)                         47\n",
       "Prince Edward Island(Canada)             2\n",
       "Quebec(Canada)                          42"
      ]
     },
     "execution_count": 50,
     "metadata": {},
     "output_type": "execute_result"
    }
   ],
   "source": [
    "b = pd.DataFrame(df_canada_hq.groupby('Location').count()['company_name'])\n",
    "b"
   ]
  },
  {
   "cell_type": "code",
   "execution_count": 51,
   "id": "18006b1a-e2de-4877-af82-03d190dcb77a",
   "metadata": {},
   "outputs": [
    {
     "data": {
      "text/plain": [
       "Text(0.5, 1.0, 'No of companies in the different Canadian provinces')"
      ]
     },
     "execution_count": 51,
     "metadata": {},
     "output_type": "execute_result"
    },
    {
     "data": {
      "image/png": "[encoded data removed]",
      "text/plain": [
       "<Figure size 720x720 with 1 Axes>"
      ]
     },
     "metadata": {
      "needs_background": "light"
     },
     "output_type": "display_data"
    }
   ],
   "source": [
    "plt.figure(figsize=(10,10))\n",
    "plt.barh(b.index, b['company_name'])\n",
    "plt.ylabel('Provinces')\n",
    "plt.xlabel('No. of companies')\n",
    "plt.title('No of companies in the different Canadian provinces')"
   ]
  },
  {
   "cell_type": "code",
   "execution_count": 70,
   "id": "25079d1f-c62e-407f-a4e4-043f3916247b",
   "metadata": {},
   "outputs": [],
   "source": [
    "import os\n",
    "outdir='./Project_OPTEL/output'\n",
    "try:\n",
    "    os.makedirs(outdir)\n",
    "except FileExistsError:\n",
    "    pass"
   ]
  },
  {
   "cell_type": "code",
   "execution_count": 71,
   "id": "c10e9191-712c-4edd-9e6a-f82bebdf2adf",
   "metadata": {},
   "outputs": [],
   "source": [
    "outname = 'df_usa_hq.csv'\n",
    "if not os.path.exists(outdir):\n",
    "    os.mkdir(outdir)\n",
    "fullname = os.path.join(outdir, outname)    \n",
    "df_usa_hq.to_csv(fullname , encoding = 'utf-8', index = False)"
   ]
  },
  {
   "cell_type": "code",
   "execution_count": 72,
   "id": "ff31c03d-e2a1-4be0-8c8e-1780ce4922dd",
   "metadata": {},
   "outputs": [],
   "source": [
    "outname = 'df_canada_hq.csv'\n",
    "fullname = os.path.join(outdir, outname)  \n",
    "df_canada_hq.to_csv(fullname , encoding = 'utf-8', index = False)"
   ]
  },
  {
   "cell_type": "markdown",
   "id": "612f0c1b-c08a-4106-bb5b-7c71ee252479",
   "metadata": {},
   "source": [
    "## Connecting to Postgres Database"
   ]
  },
  {
   "cell_type": "code",
   "execution_count": 73,
   "id": "b23416a9-b809-4fb6-9299-0d9ee17991da",
   "metadata": {},
   "outputs": [
    {
     "name": "stdout",
     "output_type": "stream",
     "text": [
      "db opened successfully\n"
     ]
    }
   ],
   "source": [
    "import psycopg2\n",
    "host = 'localhost'\n",
    "dbname = 'north_america'\n",
    "user = 'postgres'\n",
    "password = 'Global@7'\n",
    "\n",
    "conn_string = 'host=%s dbname=%s user=%s password=%s' % (host, dbname, user, password)\n",
    "conn = psycopg2.connect(conn_string)\n",
    "cursor = conn.cursor()\n",
    "print('db opened successfully')\n"
   ]
  },
  {
   "cell_type": "code",
   "execution_count": 74,
   "id": "290f8663-86e4-4e18-9e41-4a54afc31040",
   "metadata": {},
   "outputs": [],
   "source": [
    "dtype_dict = {'object':'varchar',\n",
    "             'float64':'float',\n",
    "             'int64':'int',\n",
    "             'datetime64':'timestamp',\n",
    "             'timedelta64[ns]':'varchar'}"
   ]
  },
  {
   "cell_type": "code",
   "execution_count": 75,
   "id": "cac2d521-08cb-4881-932a-5143db9c6ac6",
   "metadata": {},
   "outputs": [
    {
     "data": {
      "text/plain": [
       "{'object': 'varchar',\n",
       " 'float64': 'float',\n",
       " 'int64': 'int',\n",
       " 'datetime64': 'timestamp',\n",
       " 'timedelta64[ns]': 'varchar'}"
      ]
     },
     "execution_count": 75,
     "metadata": {},
     "output_type": "execute_result"
    }
   ],
   "source": [
    "dtype_dict"
   ]
  },
  {
   "cell_type": "markdown",
   "id": "6291fc61-e5a8-49d9-89e5-3c785f8f2a5d",
   "metadata": {},
   "source": [
    "### Querying for the top 15 USA based companies on pgadmin4"
   ]
  },
  {
   "cell_type": "code",
   "execution_count": 76,
   "id": "af5efd6e-371d-42ff-99da-aaf82f300459",
   "metadata": {},
   "outputs": [
    {
     "data": {
      "text/plain": [
       "Index(['company_name', 'Location', 'location_type', 'Sales', 'URL',\n",
       "       'phone_number'],\n",
       "      dtype='object')"
      ]
     },
     "execution_count": 76,
     "metadata": {},
     "output_type": "execute_result"
    }
   ],
   "source": [
    "df_usa_hq.columns"
   ]
  },
  {
   "cell_type": "code",
   "execution_count": 77,
   "id": "7d638707-a2ef-413c-bc41-76cf0d931f7b",
   "metadata": {},
   "outputs": [
    {
     "data": {
      "text/plain": [
       "company_name     object\n",
       "Location         object\n",
       "location_type    object\n",
       "Sales             int64\n",
       "URL              object\n",
       "phone_number     object\n",
       "dtype: object"
      ]
     },
     "execution_count": 77,
     "metadata": {},
     "output_type": "execute_result"
    }
   ],
   "source": [
    "df_usa_hq.dtypes"
   ]
  },
  {
   "cell_type": "code",
   "execution_count": 78,
   "id": "0afe79a7-95f5-42e5-adf6-fd6df180deca",
   "metadata": {},
   "outputs": [],
   "source": [
    "col_str = ','.join('{} {}'.format(a,b) for (a,b) in zip(df_usa_hq.columns , df_usa_hq.dtypes.replace(dtype_dict)))"
   ]
  },
  {
   "cell_type": "code",
   "execution_count": 79,
   "id": "d6f3016a-d9ac-4a65-9165-5bae64f31f60",
   "metadata": {},
   "outputs": [
    {
     "data": {
      "text/plain": [
       "'company_name varchar,Location varchar,location_type varchar,Sales int,URL varchar,phone_number varchar'"
      ]
     },
     "execution_count": 79,
     "metadata": {},
     "output_type": "execute_result"
    }
   ],
   "source": [
    "col_str"
   ]
  },
  {
   "cell_type": "code",
   "execution_count": 80,
   "id": "b17b3cf8-19bb-4a26-b744-e33bab99211f",
   "metadata": {},
   "outputs": [],
   "source": [
    "## Drop table with same name\n",
    "cursor.execute('drop table if exists df_usa_hq;')"
   ]
  },
  {
   "cell_type": "code",
   "execution_count": 81,
   "id": "ba7eba4a-30ac-4746-8fd9-fc81afd47039",
   "metadata": {},
   "outputs": [],
   "source": [
    "## create table\n",
    "cursor.execute('create table df_usa_hq\\\n",
    "               (company_name varchar,\\\n",
    "               Location varchar,\\\n",
    "               location_type varchar,\\\n",
    "               Sales bigint,\\\n",
    "               URL varchar,\\\n",
    "               phone_number varchar)')"
   ]
  },
  {
   "cell_type": "code",
   "execution_count": 83,
   "id": "75045eaf-3bb9-49b0-8be4-1298e6f75392",
   "metadata": {},
   "outputs": [
    {
     "data": {
      "text/plain": [
       "<_io.TextIOWrapper name='./Project_OPTEL/output/df_usa_hq.csv' mode='r' encoding='UTF-8'>"
      ]
     },
     "execution_count": 83,
     "metadata": {},
     "output_type": "execute_result"
    }
   ],
   "source": [
    "## Open file df_usa_hq.csv\n",
    "file = open(outdir+'/df_usa_hq.csv')\n",
    "file"
   ]
  },
  {
   "cell_type": "code",
   "execution_count": 84,
   "id": "d3325ab2-a5c1-475a-91e2-dd2f3c16b5ce",
   "metadata": {},
   "outputs": [
    {
     "name": "stdout",
     "output_type": "stream",
     "text": [
      "file copied\n"
     ]
    }
   ],
   "source": [
    "## copy df data in table:\n",
    "sql_query = '''\n",
    "copy df_usa_hq from stdin with\n",
    "csv\n",
    "header\n",
    "delimiter as ','\n",
    "'''\n",
    "cursor.copy_expert(sql = sql_query, file = file)\n",
    "print('file copied')"
   ]
  },
  {
   "cell_type": "code",
   "execution_count": 85,
   "id": "a9a6dc63-b064-488c-a1e3-7f09a88b928c",
   "metadata": {},
   "outputs": [],
   "source": [
    "conn.commit()"
   ]
  },
  {
   "cell_type": "code",
   "execution_count": 86,
   "id": "1a14bf3e-4a3e-4dbc-b883-8f31d8489bb6",
   "metadata": {},
   "outputs": [],
   "source": [
    "cursor.close()"
   ]
  },
  {
   "cell_type": "code",
   "execution_count": 87,
   "id": "f4cb35a1-9f8f-4705-ac75-a31faf4c5b9d",
   "metadata": {},
   "outputs": [],
   "source": [
    "file.close()"
   ]
  },
  {
   "cell_type": "markdown",
   "id": "08287f25-39e4-427e-baa0-67402dfa2681",
   "metadata": {},
   "source": [
    "### Querying for the top 15 Canada based companies on pgadmin4"
   ]
  },
  {
   "cell_type": "code",
   "execution_count": 88,
   "id": "385b4ca1-685e-421d-aa02-186a0ef29ae6",
   "metadata": {},
   "outputs": [
    {
     "data": {
      "text/plain": [
       "Index(['company_name', 'Location', 'location_type', 'Sales', 'URL',\n",
       "       'phone_number'],\n",
       "      dtype='object')"
      ]
     },
     "execution_count": 88,
     "metadata": {},
     "output_type": "execute_result"
    }
   ],
   "source": [
    "df_canada_hq.columns"
   ]
  },
  {
   "cell_type": "code",
   "execution_count": 89,
   "id": "0f558e22-fbe5-4151-9f65-d60a35331867",
   "metadata": {},
   "outputs": [
    {
     "data": {
      "text/plain": [
       "company_name      object\n",
       "Location          object\n",
       "location_type     object\n",
       "Sales              int64\n",
       "URL               object\n",
       "phone_number     float64\n",
       "dtype: object"
      ]
     },
     "execution_count": 89,
     "metadata": {},
     "output_type": "execute_result"
    }
   ],
   "source": [
    "df_canada_hq.dtypes"
   ]
  },
  {
   "cell_type": "code",
   "execution_count": 90,
   "id": "4fae2ece-3e2c-431b-b022-324cbf5f0a09",
   "metadata": {},
   "outputs": [],
   "source": [
    "col_str = ','.join('{} {}'.format(a,b) for (a,b) in zip(df_canada_hq.columns, df_canada_hq.dtypes.replace(dtype_dict)))"
   ]
  },
  {
   "cell_type": "code",
   "execution_count": 91,
   "id": "9d924b21-8b00-42cc-93c6-34eadaebe01d",
   "metadata": {},
   "outputs": [
    {
     "data": {
      "text/plain": [
       "'company_name varchar,Location varchar,location_type varchar,Sales int,URL varchar,phone_number float'"
      ]
     },
     "execution_count": 91,
     "metadata": {},
     "output_type": "execute_result"
    }
   ],
   "source": [
    "col_str"
   ]
  },
  {
   "cell_type": "code",
   "execution_count": 92,
   "id": "5aa5f231-00b0-496d-94b9-98efaabcdc39",
   "metadata": {},
   "outputs": [
    {
     "name": "stdout",
     "output_type": "stream",
     "text": [
      "db opened successfully\n"
     ]
    }
   ],
   "source": [
    "host = 'localhost'\n",
    "dbname = 'north_america'\n",
    "user = 'postgres'\n",
    "password = 'Global@7'\n",
    "\n",
    "conn_string = 'host=%s dbname=%s user=%s password=%s' % (host, dbname, user, password)\n",
    "conn = psycopg2.connect(conn_string)\n",
    "cursor = conn.cursor()\n",
    "print('db opened successfully')"
   ]
  },
  {
   "cell_type": "code",
   "execution_count": 93,
   "id": "1ef4c8b8-e21e-41d7-bdf9-c8a28d8b9774",
   "metadata": {},
   "outputs": [],
   "source": [
    "## drop tables with same names\n",
    "cursor.execute('drop table if exists df_canada_hq;')"
   ]
  },
  {
   "cell_type": "code",
   "execution_count": 94,
   "id": "1619141f-0556-4082-b993-c99eade19df1",
   "metadata": {},
   "outputs": [],
   "source": [
    "## create table\n",
    "cursor.execute(\"\"\"create table df_canada_hq(\n",
    "company_name varchar,\n",
    "Location varchar,\n",
    "location_type varchar,\n",
    "Sales bigint,\n",
    "URL varchar,\n",
    "phone_number float)\"\"\"\n",
    ")"
   ]
  },
  {
   "cell_type": "code",
   "execution_count": 95,
   "id": "8e00d36e-5f4c-42c6-ae7c-03a963a5190c",
   "metadata": {},
   "outputs": [
    {
     "data": {
      "text/plain": [
       "<_io.TextIOWrapper name='./Project_OPTEL/output/df_canada_hq.csv' mode='r' encoding='UTF-8'>"
      ]
     },
     "execution_count": 95,
     "metadata": {},
     "output_type": "execute_result"
    }
   ],
   "source": [
    "## open the file\n",
    "file = open(outdir+'/df_canada_hq.csv')\n",
    "file"
   ]
  },
  {
   "cell_type": "code",
   "execution_count": 96,
   "id": "6ea89490-39a0-4460-b31b-15122dd9d395",
   "metadata": {},
   "outputs": [
    {
     "name": "stdout",
     "output_type": "stream",
     "text": [
      "file copied\n"
     ]
    }
   ],
   "source": [
    "## copy file data to table\n",
    "sql_query = \"\"\"\n",
    "copy df_canada_hq from stdin with\n",
    "csv\n",
    "header\n",
    "delimiter as ','\n",
    "\"\"\"\n",
    "cursor.copy_expert(sql = sql_query, file = file)\n",
    "print('file copied')"
   ]
  },
  {
   "cell_type": "code",
   "execution_count": 97,
   "id": "3b16a619-1e1b-49ca-9423-77e5e9507391",
   "metadata": {},
   "outputs": [],
   "source": [
    "conn.commit()"
   ]
  },
  {
   "cell_type": "code",
   "execution_count": 98,
   "id": "224492d2-0431-434e-a78a-73580aa043e3",
   "metadata": {},
   "outputs": [],
   "source": [
    "file.close()"
   ]
  },
  {
   "cell_type": "code",
   "execution_count": null,
   "id": "78824a16-4300-41e1-8672-f57a80af1804",
   "metadata": {},
   "outputs": [],
   "source": [
    "print(\"End.\")"
   ]
  }
 ],
 "metadata": {
  "kernelspec": {
   "display_name": "Python 3 (ipykernel)",
   "language": "python",
   "name": "python3"
  },
  "language_info": {
   "codemirror_mode": {
    "name": "ipython",
    "version": 3
   },
   "file_extension": ".py",
   "mimetype": "text/x-python",
   "name": "python",
   "nbconvert_exporter": "python",
   "pygments_lexer": "ipython3",
   "version": "3.9.12"
  }
 },
 "nbformat": 4,
 "nbformat_minor": 5
}
